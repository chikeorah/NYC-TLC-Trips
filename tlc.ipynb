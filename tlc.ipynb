{
 "cells": [
  {
   "cell_type": "markdown",
   "metadata": {},
   "source": [
    "## 1. Load up datasets for 3 months\n",
    "I will be working with first quarter 2024 data. Would have preferred to load more but not sure my PC can handle the volume."
   ]
  },
  {
   "cell_type": "code",
   "execution_count": 16,
   "metadata": {},
   "outputs": [],
   "source": [
    "#load parquet file into dataframe\n",
    "import pandas as pd\n",
    "import numpy as np\n",
    "import pyarrow.parquet as pq\n",
    "import dask.dataframe as dd\n",
    "from matplotlib import pyplot as plt\n",
    "import seaborn as sns\n",
    "from sklearn.linear_model import LinearRegression\n",
    "from sklearn.tree import DecisionTreeClassifier\n",
    "from sklearn.model_selection import train_test_split\n",
    "from sklearn.metrics import r2_score, explained_variance_score, mean_absolute_error, mean_squared_error\n",
    "import gc\n"
   ]
  },
  {
   "cell_type": "code",
   "execution_count": 10,
   "metadata": {},
   "outputs": [],
   "source": [
    "def process_parquet(parquet_file_path):\n",
    "    columns_needed = ['request_datetime', 'on_scene_datetime', 'PULocationID', 'DOLocationID', 'trip_time']\n",
    "    \n",
    "    # Read the specific columns\n",
    "    df = pd.read_parquet(parquet_file_path, columns=columns_needed)\n",
    "    \n",
    "    # Convert datetime columns\n",
    "    df['request_datetime'] = pd.to_datetime(df['request_datetime'])\n",
    "    df['on_scene_datetime'] = pd.to_datetime(df['on_scene_datetime'])\n",
    "    \n",
    "    # Calculate the wait_time in seconds\n",
    "    df['wait_time'] = (df['on_scene_datetime'] - df['request_datetime']).dt.total_seconds()\n",
    "    \n",
    "    return df"
   ]
  },
  {
   "cell_type": "code",
   "execution_count": 11,
   "metadata": {},
   "outputs": [
    {
     "data": {
      "text/html": [
       "<div>\n",
       "<style scoped>\n",
       "    .dataframe tbody tr th:only-of-type {\n",
       "        vertical-align: middle;\n",
       "    }\n",
       "\n",
       "    .dataframe tbody tr th {\n",
       "        vertical-align: top;\n",
       "    }\n",
       "\n",
       "    .dataframe thead th {\n",
       "        text-align: right;\n",
       "    }\n",
       "</style>\n",
       "<table border=\"1\" class=\"dataframe\">\n",
       "  <thead>\n",
       "    <tr style=\"text-align: right;\">\n",
       "      <th></th>\n",
       "      <th>request_datetime</th>\n",
       "      <th>on_scene_datetime</th>\n",
       "      <th>PULocationID</th>\n",
       "      <th>DOLocationID</th>\n",
       "      <th>trip_time</th>\n",
       "      <th>wait_time</th>\n",
       "    </tr>\n",
       "  </thead>\n",
       "  <tbody>\n",
       "    <tr>\n",
       "      <th>0</th>\n",
       "      <td>2024-01-01 00:21:47</td>\n",
       "      <td>2024-01-01 00:25:06</td>\n",
       "      <td>161</td>\n",
       "      <td>158</td>\n",
       "      <td>2251</td>\n",
       "      <td>199.0</td>\n",
       "    </tr>\n",
       "    <tr>\n",
       "      <th>1</th>\n",
       "      <td>2024-01-01 00:10:56</td>\n",
       "      <td>2024-01-01 00:11:08</td>\n",
       "      <td>137</td>\n",
       "      <td>79</td>\n",
       "      <td>432</td>\n",
       "      <td>12.0</td>\n",
       "    </tr>\n",
       "    <tr>\n",
       "      <th>2</th>\n",
       "      <td>2024-01-01 00:20:04</td>\n",
       "      <td>2024-01-01 00:21:51</td>\n",
       "      <td>79</td>\n",
       "      <td>186</td>\n",
       "      <td>731</td>\n",
       "      <td>107.0</td>\n",
       "    </tr>\n",
       "    <tr>\n",
       "      <th>3</th>\n",
       "      <td>2024-01-01 00:35:46</td>\n",
       "      <td>2024-01-01 00:39:59</td>\n",
       "      <td>234</td>\n",
       "      <td>148</td>\n",
       "      <td>930</td>\n",
       "      <td>253.0</td>\n",
       "    </tr>\n",
       "    <tr>\n",
       "      <th>4</th>\n",
       "      <td>2024-01-01 00:48:19</td>\n",
       "      <td>2024-01-01 00:56:23</td>\n",
       "      <td>148</td>\n",
       "      <td>97</td>\n",
       "      <td>761</td>\n",
       "      <td>484.0</td>\n",
       "    </tr>\n",
       "  </tbody>\n",
       "</table>\n",
       "</div>"
      ],
      "text/plain": [
       "     request_datetime   on_scene_datetime  PULocationID  DOLocationID  \\\n",
       "0 2024-01-01 00:21:47 2024-01-01 00:25:06           161           158   \n",
       "1 2024-01-01 00:10:56 2024-01-01 00:11:08           137            79   \n",
       "2 2024-01-01 00:20:04 2024-01-01 00:21:51            79           186   \n",
       "3 2024-01-01 00:35:46 2024-01-01 00:39:59           234           148   \n",
       "4 2024-01-01 00:48:19 2024-01-01 00:56:23           148            97   \n",
       "\n",
       "   trip_time  wait_time  \n",
       "0       2251      199.0  \n",
       "1        432       12.0  \n",
       "2        731      107.0  \n",
       "3        930      253.0  \n",
       "4        761      484.0  "
      ]
     },
     "execution_count": 11,
     "metadata": {},
     "output_type": "execute_result"
    }
   ],
   "source": [
    "#Jan 2024\n",
    "trip_jan = process_parquet('data/fhvhv_tripdata_2024-01.parquet')\n",
    "trip_jan.head()"
   ]
  },
  {
   "cell_type": "code",
   "execution_count": 12,
   "metadata": {},
   "outputs": [
    {
     "data": {
      "text/html": [
       "<div>\n",
       "<style scoped>\n",
       "    .dataframe tbody tr th:only-of-type {\n",
       "        vertical-align: middle;\n",
       "    }\n",
       "\n",
       "    .dataframe tbody tr th {\n",
       "        vertical-align: top;\n",
       "    }\n",
       "\n",
       "    .dataframe thead th {\n",
       "        text-align: right;\n",
       "    }\n",
       "</style>\n",
       "<table border=\"1\" class=\"dataframe\">\n",
       "  <thead>\n",
       "    <tr style=\"text-align: right;\">\n",
       "      <th></th>\n",
       "      <th>request_datetime</th>\n",
       "      <th>on_scene_datetime</th>\n",
       "      <th>PULocationID</th>\n",
       "      <th>DOLocationID</th>\n",
       "      <th>trip_time</th>\n",
       "      <th>wait_time</th>\n",
       "    </tr>\n",
       "  </thead>\n",
       "  <tbody>\n",
       "    <tr>\n",
       "      <th>0</th>\n",
       "      <td>2024-02-01 00:13:55</td>\n",
       "      <td>2024-02-01 00:19:59</td>\n",
       "      <td>149</td>\n",
       "      <td>210</td>\n",
       "      <td>420</td>\n",
       "      <td>364.0</td>\n",
       "    </tr>\n",
       "    <tr>\n",
       "      <th>1</th>\n",
       "      <td>2024-02-01 00:00:14</td>\n",
       "      <td>2024-02-01 00:03:28</td>\n",
       "      <td>127</td>\n",
       "      <td>136</td>\n",
       "      <td>300</td>\n",
       "      <td>194.0</td>\n",
       "    </tr>\n",
       "    <tr>\n",
       "      <th>2</th>\n",
       "      <td>2024-02-01 00:13:57</td>\n",
       "      <td>2024-02-01 00:15:44</td>\n",
       "      <td>127</td>\n",
       "      <td>69</td>\n",
       "      <td>848</td>\n",
       "      <td>107.0</td>\n",
       "    </tr>\n",
       "    <tr>\n",
       "      <th>3</th>\n",
       "      <td>2024-02-01 00:40:21</td>\n",
       "      <td>NaT</td>\n",
       "      <td>169</td>\n",
       "      <td>169</td>\n",
       "      <td>541</td>\n",
       "      <td>NaN</td>\n",
       "    </tr>\n",
       "    <tr>\n",
       "      <th>4</th>\n",
       "      <td>2024-02-01 00:14:14</td>\n",
       "      <td>2024-02-01 00:15:55</td>\n",
       "      <td>142</td>\n",
       "      <td>152</td>\n",
       "      <td>658</td>\n",
       "      <td>101.0</td>\n",
       "    </tr>\n",
       "  </tbody>\n",
       "</table>\n",
       "</div>"
      ],
      "text/plain": [
       "     request_datetime   on_scene_datetime  PULocationID  DOLocationID  \\\n",
       "0 2024-02-01 00:13:55 2024-02-01 00:19:59           149           210   \n",
       "1 2024-02-01 00:00:14 2024-02-01 00:03:28           127           136   \n",
       "2 2024-02-01 00:13:57 2024-02-01 00:15:44           127            69   \n",
       "3 2024-02-01 00:40:21                 NaT           169           169   \n",
       "4 2024-02-01 00:14:14 2024-02-01 00:15:55           142           152   \n",
       "\n",
       "   trip_time  wait_time  \n",
       "0        420      364.0  \n",
       "1        300      194.0  \n",
       "2        848      107.0  \n",
       "3        541        NaN  \n",
       "4        658      101.0  "
      ]
     },
     "execution_count": 12,
     "metadata": {},
     "output_type": "execute_result"
    }
   ],
   "source": [
    "#Feb 2024\n",
    "trip_feb = process_parquet('data/fhvhv_tripdata_2024-02.parquet') \n",
    "trip_feb.head()"
   ]
  },
  {
   "cell_type": "code",
   "execution_count": 13,
   "metadata": {},
   "outputs": [
    {
     "data": {
      "text/html": [
       "<div>\n",
       "<style scoped>\n",
       "    .dataframe tbody tr th:only-of-type {\n",
       "        vertical-align: middle;\n",
       "    }\n",
       "\n",
       "    .dataframe tbody tr th {\n",
       "        vertical-align: top;\n",
       "    }\n",
       "\n",
       "    .dataframe thead th {\n",
       "        text-align: right;\n",
       "    }\n",
       "</style>\n",
       "<table border=\"1\" class=\"dataframe\">\n",
       "  <thead>\n",
       "    <tr style=\"text-align: right;\">\n",
       "      <th></th>\n",
       "      <th>request_datetime</th>\n",
       "      <th>on_scene_datetime</th>\n",
       "      <th>PULocationID</th>\n",
       "      <th>DOLocationID</th>\n",
       "      <th>trip_time</th>\n",
       "      <th>wait_time</th>\n",
       "    </tr>\n",
       "  </thead>\n",
       "  <tbody>\n",
       "    <tr>\n",
       "      <th>0</th>\n",
       "      <td>2024-03-01 00:42:28</td>\n",
       "      <td>2024-03-01 00:45:18</td>\n",
       "      <td>148</td>\n",
       "      <td>144</td>\n",
       "      <td>170</td>\n",
       "      <td>170.0</td>\n",
       "    </tr>\n",
       "    <tr>\n",
       "      <th>1</th>\n",
       "      <td>2024-03-01 00:54:31</td>\n",
       "      <td>2024-03-01 00:55:55</td>\n",
       "      <td>79</td>\n",
       "      <td>114</td>\n",
       "      <td>291</td>\n",
       "      <td>84.0</td>\n",
       "    </tr>\n",
       "    <tr>\n",
       "      <th>2</th>\n",
       "      <td>2024-03-01 00:18:51</td>\n",
       "      <td>2024-03-01 00:20:27</td>\n",
       "      <td>232</td>\n",
       "      <td>148</td>\n",
       "      <td>425</td>\n",
       "      <td>96.0</td>\n",
       "    </tr>\n",
       "    <tr>\n",
       "      <th>3</th>\n",
       "      <td>2024-03-01 00:24:09</td>\n",
       "      <td>2024-03-01 00:30:33</td>\n",
       "      <td>148</td>\n",
       "      <td>233</td>\n",
       "      <td>766</td>\n",
       "      <td>384.0</td>\n",
       "    </tr>\n",
       "    <tr>\n",
       "      <th>4</th>\n",
       "      <td>2024-03-01 00:05:27</td>\n",
       "      <td>2024-03-01 00:07:42</td>\n",
       "      <td>48</td>\n",
       "      <td>237</td>\n",
       "      <td>1688</td>\n",
       "      <td>135.0</td>\n",
       "    </tr>\n",
       "  </tbody>\n",
       "</table>\n",
       "</div>"
      ],
      "text/plain": [
       "     request_datetime   on_scene_datetime  PULocationID  DOLocationID  \\\n",
       "0 2024-03-01 00:42:28 2024-03-01 00:45:18           148           144   \n",
       "1 2024-03-01 00:54:31 2024-03-01 00:55:55            79           114   \n",
       "2 2024-03-01 00:18:51 2024-03-01 00:20:27           232           148   \n",
       "3 2024-03-01 00:24:09 2024-03-01 00:30:33           148           233   \n",
       "4 2024-03-01 00:05:27 2024-03-01 00:07:42            48           237   \n",
       "\n",
       "   trip_time  wait_time  \n",
       "0        170      170.0  \n",
       "1        291       84.0  \n",
       "2        425       96.0  \n",
       "3        766      384.0  \n",
       "4       1688      135.0  "
      ]
     },
     "execution_count": 13,
     "metadata": {},
     "output_type": "execute_result"
    }
   ],
   "source": [
    "#Mar 2024\n",
    "trip_mar = process_parquet('data/fhvhv_tripdata_2024-03.parquet') \n",
    "trip_mar.head()"
   ]
  },
  {
   "cell_type": "code",
   "execution_count": 14,
   "metadata": {},
   "outputs": [
    {
     "data": {
      "text/html": [
       "<div>\n",
       "<style scoped>\n",
       "    .dataframe tbody tr th:only-of-type {\n",
       "        vertical-align: middle;\n",
       "    }\n",
       "\n",
       "    .dataframe tbody tr th {\n",
       "        vertical-align: top;\n",
       "    }\n",
       "\n",
       "    .dataframe thead th {\n",
       "        text-align: right;\n",
       "    }\n",
       "</style>\n",
       "<table border=\"1\" class=\"dataframe\">\n",
       "  <thead>\n",
       "    <tr style=\"text-align: right;\">\n",
       "      <th></th>\n",
       "      <th>request_datetime</th>\n",
       "      <th>on_scene_datetime</th>\n",
       "      <th>PULocationID</th>\n",
       "      <th>DOLocationID</th>\n",
       "      <th>trip_time</th>\n",
       "      <th>wait_time</th>\n",
       "    </tr>\n",
       "  </thead>\n",
       "  <tbody>\n",
       "    <tr>\n",
       "      <th>0</th>\n",
       "      <td>2024-01-01 00:21:47</td>\n",
       "      <td>2024-01-01 00:25:06</td>\n",
       "      <td>161</td>\n",
       "      <td>158</td>\n",
       "      <td>2251</td>\n",
       "      <td>199.0</td>\n",
       "    </tr>\n",
       "    <tr>\n",
       "      <th>1</th>\n",
       "      <td>2024-01-01 00:10:56</td>\n",
       "      <td>2024-01-01 00:11:08</td>\n",
       "      <td>137</td>\n",
       "      <td>79</td>\n",
       "      <td>432</td>\n",
       "      <td>12.0</td>\n",
       "    </tr>\n",
       "    <tr>\n",
       "      <th>2</th>\n",
       "      <td>2024-01-01 00:20:04</td>\n",
       "      <td>2024-01-01 00:21:51</td>\n",
       "      <td>79</td>\n",
       "      <td>186</td>\n",
       "      <td>731</td>\n",
       "      <td>107.0</td>\n",
       "    </tr>\n",
       "    <tr>\n",
       "      <th>3</th>\n",
       "      <td>2024-01-01 00:35:46</td>\n",
       "      <td>2024-01-01 00:39:59</td>\n",
       "      <td>234</td>\n",
       "      <td>148</td>\n",
       "      <td>930</td>\n",
       "      <td>253.0</td>\n",
       "    </tr>\n",
       "    <tr>\n",
       "      <th>4</th>\n",
       "      <td>2024-01-01 00:48:19</td>\n",
       "      <td>2024-01-01 00:56:23</td>\n",
       "      <td>148</td>\n",
       "      <td>97</td>\n",
       "      <td>761</td>\n",
       "      <td>484.0</td>\n",
       "    </tr>\n",
       "  </tbody>\n",
       "</table>\n",
       "</div>"
      ],
      "text/plain": [
       "     request_datetime   on_scene_datetime  PULocationID  DOLocationID  \\\n",
       "0 2024-01-01 00:21:47 2024-01-01 00:25:06           161           158   \n",
       "1 2024-01-01 00:10:56 2024-01-01 00:11:08           137            79   \n",
       "2 2024-01-01 00:20:04 2024-01-01 00:21:51            79           186   \n",
       "3 2024-01-01 00:35:46 2024-01-01 00:39:59           234           148   \n",
       "4 2024-01-01 00:48:19 2024-01-01 00:56:23           148            97   \n",
       "\n",
       "   trip_time  wait_time  \n",
       "0       2251      199.0  \n",
       "1        432       12.0  \n",
       "2        731      107.0  \n",
       "3        930      253.0  \n",
       "4        761      484.0  "
      ]
     },
     "execution_count": 14,
     "metadata": {},
     "output_type": "execute_result"
    }
   ],
   "source": [
    "#merge the three dataframes, ensure the merge is optimised to run faster\n",
    "trips = pd.concat([trip_jan, trip_feb, trip_mar], ignore_index=True)\n",
    "\n",
    "trips.head()"
   ]
  },
  {
   "cell_type": "code",
   "execution_count": 17,
   "metadata": {},
   "outputs": [
    {
     "data": {
      "text/plain": [
       "250"
      ]
     },
     "execution_count": 17,
     "metadata": {},
     "output_type": "execute_result"
    }
   ],
   "source": [
    "#for memory sakes, I'm manually deleting the unneeded dataframes\n",
    "del trip_jan\n",
    "del trip_feb\n",
    "del trip_mar\n",
    "gc.collect()"
   ]
  },
  {
   "cell_type": "markdown",
   "metadata": {},
   "source": [
    "## 2. Data Preprocessing\n",
    "### 2.1. Calculate total trip time and total fare to dataset"
   ]
  },
  {
   "cell_type": "code",
   "execution_count": null,
   "metadata": {},
   "outputs": [
    {
     "data": {
      "text/plain": [
       "request_datetime              0\n",
       "on_scene_datetime       5218737\n",
       "pickup_datetime               0\n",
       "dropoff_datetime              0\n",
       "PULocationID                  0\n",
       "DOLocationID                  0\n",
       "trip_time                     0\n",
       "base_passenger_fare           0\n",
       "tolls                         0\n",
       "bcf                           0\n",
       "sales_tax                     0\n",
       "congestion_surcharge          0\n",
       "airport_fee                   0\n",
       "tips                          0\n",
       "dtype: int64"
      ]
     },
     "execution_count": 4,
     "metadata": {},
     "output_type": "execute_result"
    }
   ],
   "source": [
    "#create new dataframe with some columns in the trip_weather_df for modelling\n",
    "new_trip_df = trips[['request_datetime', 'on_scene_datetime', 'pickup_datetime', 'dropoff_datetime', 'PULocationID', 'DOLocationID', 'trip_time', \n",
    "                               'base_passenger_fare', 'tolls', 'bcf', 'sales_tax', 'congestion_surcharge', 'airport_fee', 'tips']]\n",
    "\n",
    "new_trip_df.isnull().sum().compute()"
   ]
  },
  {
   "cell_type": "code",
   "execution_count": null,
   "metadata": {},
   "outputs": [
    {
     "data": {
      "text/plain": [
       "(19663930, 14)"
      ]
     },
     "execution_count": 8,
     "metadata": {},
     "output_type": "execute_result"
    }
   ],
   "source": [
    "#check dask dataframe shape\n",
    "shape = new_trip_df.shape\n",
    "shape[0].compute(),shape[1]"
   ]
  },
  {
   "cell_type": "code",
   "execution_count": null,
   "metadata": {},
   "outputs": [],
   "source": [
    "#wait time in seconds\n",
    "wait_time = (new_trip_df['request_datetime'] - new_trip_df['on_scene_datetime']).dt.total_seconds()\n",
    "\n",
    "#total trip time in seconds\n",
    "new_trip_df['total_trip_time'] = wait_time + new_trip_df['trip_time']\n",
    "\n",
    "#calculate total fare\n",
    "new_trip_df['total_fare'] = new_trip_df['base_passenger_fare'] + new_trip_df['tolls'] + new_trip_df['bcf'] + new_trip_df['sales_tax'] + new_trip_df['congestion_surcharge'] + new_trip_df['airport_fee'] + new_trip_df['tips']\n",
    "\n",
    "new_trip_df.head()"
   ]
  },
  {
   "cell_type": "markdown",
   "metadata": {},
   "source": [
    "### 2.2 Drop unnecessary columns"
   ]
  },
  {
   "cell_type": "code",
   "execution_count": null,
   "metadata": {},
   "outputs": [],
   "source": [
    "#remove unnecessary columns\n",
    "new_trip_df = new_trip_df.drop(['base_passenger_fare', 'tolls', 'bcf', 'sales_tax', 'congestion_surcharge', 'airport_fee', 'tips', 'on_scene_datetime', 'pickup_datetime', 'dropoff_datetime', 'trip_time'], axis=1)\n",
    "\n",
    "new_trip_df.head()"
   ]
  },
  {
   "cell_type": "markdown",
   "metadata": {},
   "source": [
    "### 2.3. Investigate all columns (nulls and duplicates)"
   ]
  },
  {
   "cell_type": "code",
   "execution_count": null,
   "metadata": {},
   "outputs": [],
   "source": [
    "new_trip_df.head()"
   ]
  },
  {
   "cell_type": "code",
   "execution_count": null,
   "metadata": {},
   "outputs": [],
   "source": [
    "#check for null in dataframe\n",
    "new_trip_df.isnull().sum().compute()\n"
   ]
  },
  {
   "cell_type": "markdown",
   "metadata": {},
   "source": [
    "### 2.4. Grouping and Loading additional data\n",
    "#### 2.4.1. Peak, off-peak and night time"
   ]
  },
  {
   "cell_type": "code",
   "execution_count": null,
   "metadata": {},
   "outputs": [],
   "source": [
    "\"\"\" \n",
    "    Group request datetime into Peak, Off-Peak and Night\n",
    "\"\"\"\n",
    "\n",
    "#Function to group the request_datetime as Peak:2, OffPeak:1 or Night:0\n",
    "def group_request_time(fhvhv_row):\n",
    "    day_of_week = fhvhv_row['request_datetime'].weekday()  # Monday=0, Sunday=6\n",
    "    hour = fhvhv_row['request_datetime'].hour\n",
    "    night, off_peak, peak = 0, 1, 2\n",
    "\n",
    "    if hour >= 23 or hour < 6:\n",
    "        return night\n",
    "    elif day_of_week < 5:  # Monday to Friday\n",
    "        if (6 <= hour < 10) or (15 <= hour < 19):\n",
    "            return peak\n",
    "        elif (10 <= hour < 15) or (19 <= hour < 23):\n",
    "            return off_peak\n",
    "    else:  # Saturday and Sunday\n",
    "        if hour >= 6 and hour < 23:\n",
    "            return off_peak\n",
    "        else:\n",
    "            return night\n",
    "\n",
    "#apply function to dataframe\n",
    "new_trip_df['request_time_group'] = new_trip_df.apply(group_request_time, axis=1, meta=('request_time_group', object))\n",
    "\n",
    "new_trip_df.head()"
   ]
  },
  {
   "cell_type": "markdown",
   "metadata": {},
   "source": [
    "#### 2.4.2. Holidays in NYC"
   ]
  },
  {
   "cell_type": "code",
   "execution_count": null,
   "metadata": {},
   "outputs": [],
   "source": [
    "#Holidays\n",
    "from datetime import date\n",
    "import holidays\n",
    "\n",
    "ny_holidays = holidays.country_holidays('US', subdiv='NY', years=2024)\n",
    "\n",
    "#load ny_holidays into dataframe, date and holiday name\n",
    "ny_holidays_df = pd.DataFrame.from_dict(ny_holidays, orient='index')\n",
    "ny_holidays_df"
   ]
  },
  {
   "cell_type": "code",
   "execution_count": null,
   "metadata": {},
   "outputs": [],
   "source": [
    "#reset index and rename columns\n",
    "ny_holidays_df.reset_index(inplace=True)\n",
    "ny_holidays_df.columns = ['date', 'holiday_name']\n",
    "ny_holidays_df"
   ]
  },
  {
   "cell_type": "code",
   "execution_count": null,
   "metadata": {},
   "outputs": [],
   "source": [
    "#convert holidays to datetime and create is_holiday flag in the trips dataframe\n",
    "ny_holidays_df.index = pd.to_datetime(ny_holidays_df.index)\n",
    "new_trip_df['is_holiday'] = new_trip_df['request_datetime'].dt.date.isin(ny_holidays_df['date']).astype(int)\n",
    "new_trip_df.head()"
   ]
  },
  {
   "cell_type": "markdown",
   "metadata": {},
   "source": [
    "#### 2.4.3. NYC weather"
   ]
  },
  {
   "cell_type": "code",
   "execution_count": null,
   "metadata": {},
   "outputs": [],
   "source": [
    "#Get Weather data\n",
    "from datetime import datetime \n",
    "from meteostat import Point, Monthly, Daily, Hourly, Normals, units  \n",
    "# Set time period \n",
    "start = datetime(2024, 1, 1) \n",
    "end = datetime(2024, 3, 31)  \n",
    "# Create Point for NY\n",
    "location = Point(40.712775, -74.005973)  \n",
    "# Get daily data \n",
    "weather_data = Hourly(location, start, end) \n",
    "weather_data = weather_data.convert(units.imperial) \n",
    "weather_data = weather_data.fetch()\n",
    "\n",
    "weather_data.head()"
   ]
  },
  {
   "cell_type": "code",
   "execution_count": null,
   "metadata": {},
   "outputs": [],
   "source": [
    "#reset index and convert time to datetime\n",
    "weather_data.reset_index(inplace=True)\n",
    "weather_data.rename(columns={'index': 'time'}, inplace=True)\n",
    "weather_data['time'] = pd.to_datetime(weather_data['time'])\n",
    "\n",
    "weather_data.head()"
   ]
  },
  {
   "cell_type": "code",
   "execution_count": null,
   "metadata": {},
   "outputs": [],
   "source": [
    "#Select the required columns from weather data and merge with trips dataframe\n",
    "weather_data = weather_data[['time', 'temp', 'coco']]\n",
    "\n",
    "#cast request_datetime to datetime64[ns] to stop warnings\n",
    "new_trip_df['request_datetime'] = new_trip_df['request_datetime'].astype('datetime64[ns]')\n",
    "trip_weather_df = new_trip_df.merge(weather_data, left_on='request_datetime', right_on='time').compute()\n",
    "\n",
    "#drop time column\n",
    "trip_weather_df.drop('time', axis=1, inplace=True)\n",
    "\n",
    "trip_weather_df.head()"
   ]
  },
  {
   "cell_type": "markdown",
   "metadata": {},
   "source": [
    "## 3. EDA\n",
    "### i. Check for nulls, duplicates"
   ]
  },
  {
   "cell_type": "code",
   "execution_count": null,
   "metadata": {},
   "outputs": [],
   "source": [
    "#print shape of dataframe\n",
    "trip_weather_df.shape\n",
    "\n",
    "#check for nulls in trip_weather_df\n",
    "trip_weather_df.isnull().sum()"
   ]
  },
  {
   "cell_type": "code",
   "execution_count": null,
   "metadata": {},
   "outputs": [],
   "source": [
    "#check for duplicated values\n",
    "trip_weather_df.duplicated().sum()"
   ]
  },
  {
   "cell_type": "code",
   "execution_count": null,
   "metadata": {},
   "outputs": [],
   "source": [
    "#drop nulls\n",
    "trip_weather_df.dropna(inplace=True)\n",
    "\n",
    "#check shape\n",
    "trip_weather_df.shape\n",
    "\n",
    "#check for nulls\n",
    "trip_weather_df.isnull().sum()"
   ]
  },
  {
   "cell_type": "code",
   "execution_count": null,
   "metadata": {},
   "outputs": [],
   "source": [
    "#create new dataframe with some columns in the trip_weather_df for modelling\n",
    "new_trip_df = trip_weather_df[['request_datetime', 'on_scene_datetime', 'pickup_datetime', 'dropoff_datetime', 'PULocationID', 'DOLocationID', 'trip_time', \n",
    "                               'base_passenger_fare', 'tolls', 'bcf', 'sales_tax', 'congestion_surcharge', 'airport_fee', 'tips','request_time_group', 'is_holiday', 'temp', 'coco']]\n",
    "\n",
    "#wait time in seconds\n",
    "new_trip_df['wait_time'] = (new_trip_df['request_datetime'] - new_trip_df['on_scene_datetime']).dt.total_seconds()\n",
    "\n",
    "#total trip time in seconds\n",
    "new_trip_df['total_trip_time'] = new_trip_df['wait_time'] + new_trip_df['trip_time']\n",
    "\n",
    "#calculate total fare\n",
    "new_trip_df['total_fare'] = new_trip_df['base_passenger_fare'] + new_trip_df['tolls'] + new_trip_df['bcf'] + new_trip_df['sales_tax'] + new_trip_df['congestion_surcharge'] + new_trip_df['airport_fee'] + new_trip_df['tips']\n",
    "\n",
    "#remove unnecessary columns\n",
    "new_trip_df.drop(['base_passenger_fare', 'tolls', 'bcf', 'sales_tax', 'congestion_surcharge', 'airport_fee', 'tips', 'request_datetime', 'on_scene_datetime', 'pickup_datetime', 'dropoff_datetime'], axis=1, inplace=True)\n",
    "\n",
    "new_trip_df.head()"
   ]
  },
  {
   "cell_type": "code",
   "execution_count": null,
   "metadata": {},
   "outputs": [],
   "source": [
    "#import seaborn for pairplot\n",
    "import seaborn as sns\n",
    "g = sns.pairplot(new_trip_df)"
   ]
  },
  {
   "cell_type": "code",
   "execution_count": null,
   "metadata": {},
   "outputs": [],
   "source": [
    "sns.set(rc={'figure.figsize':(15,10)})\n",
    "\n",
    "n_variables = ['PULocationID', 'DOLocationID', 'trip_time', 'request_time_group', 'is_holiday', 'temp', 'coco', 'wait_time', 'total_trip_time', 'total_fare']\n",
    "\n",
    "pc = new_trip_df[n_variables].corr(method ='pearson')\n",
    "\n",
    "cols = n_variables\n",
    "\n",
    "ax = sns.heatmap(pc, annot=True,\n",
    "                 yticklabels=cols,\n",
    "                 xticklabels=cols,\n",
    "                 annot_kws={'size':10},\n",
    "                 cmap=\"Blues\")\n"
   ]
  }
 ],
 "metadata": {
  "kernelspec": {
   "display_name": "Python 3",
   "language": "python",
   "name": "python3"
  },
  "language_info": {
   "codemirror_mode": {
    "name": "ipython",
    "version": 3
   },
   "file_extension": ".py",
   "mimetype": "text/x-python",
   "name": "python",
   "nbconvert_exporter": "python",
   "pygments_lexer": "ipython3",
   "version": "3.11.1"
  }
 },
 "nbformat": 4,
 "nbformat_minor": 2
}
