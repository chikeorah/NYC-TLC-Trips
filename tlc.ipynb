{
 "cells": [
  {
   "cell_type": "markdown",
   "metadata": {},
   "source": [
    "### 1. Load up datasets for 3 months\n",
    "This project will be using the first quarter 2024 data. "
   ]
  },
  {
   "cell_type": "code",
   "execution_count": 1,
   "metadata": {},
   "outputs": [],
   "source": [
    "# Load parquet file into dataframe\n",
    "import pandas as pd\n",
    "import numpy as np\n",
    "import pyarrow.parquet as pq\n",
    "import dask.dataframe as dd\n",
    "from matplotlib import pyplot as plt\n",
    "import seaborn as sns\n",
    "from sklearn.linear_model import LinearRegression\n",
    "from sklearn.ensemble import RandomForestRegressor\n",
    "from sklearn import svm\n",
    "from sklearn.preprocessing import StandardScaler\n",
    "from sklearn.model_selection import train_test_split\n",
    "from sklearn.metrics import r2_score, explained_variance_score, mean_absolute_error, mean_squared_error\n",
    "import gc\n",
    "from lightgbm import LGBMRegressor"
   ]
  },
  {
   "cell_type": "markdown",
   "metadata": {},
   "source": [
    "Reuseable function to load required columns from parquet file"
   ]
  },
  {
   "cell_type": "code",
   "execution_count": 2,
   "metadata": {},
   "outputs": [],
   "source": [
    "# Load file and ensure columns are in format to ease processing\n",
    "def process_parquet(parquet_file_path):\n",
    "    columns_needed = ['request_datetime', 'on_scene_datetime', 'PULocationID', 'DOLocationID', 'trip_time']\n",
    "    \n",
    "    # Read the specific columns\n",
    "    df = pd.read_parquet(parquet_file_path, columns=columns_needed)\n",
    "    \n",
    "    # Convert datetime columns\n",
    "    df['request_datetime'] = pd.to_datetime(df['request_datetime'])\n",
    "    df['on_scene_datetime'] = pd.to_datetime(df['on_scene_datetime'])\n",
    "\n",
    "    # Convert to second precision to save memory\n",
    "    df['request_datetime'] = df['request_datetime'].values.astype('datetime64[s]')\n",
    "    df['on_scene_datetime'] = df['on_scene_datetime'].values.astype('datetime64[s]')\n",
    "\n",
    "    # Convert int64 to int32\n",
    "    df['trip_time'] = df['trip_time'].astype('int32')\n",
    "    \n",
    "    # Calculate the wait_time in seconds\n",
    "    df['wait_time'] = (df['on_scene_datetime'] - df['request_datetime']).dt.total_seconds()\n",
    "    df['wait_time'] = df['wait_time'].astype('float32')\n",
    "    \n",
    "    return df"
   ]
  },
  {
   "cell_type": "code",
   "execution_count": 3,
   "metadata": {},
   "outputs": [
    {
     "data": {
      "text/html": [
       "<div>\n",
       "<style scoped>\n",
       "    .dataframe tbody tr th:only-of-type {\n",
       "        vertical-align: middle;\n",
       "    }\n",
       "\n",
       "    .dataframe tbody tr th {\n",
       "        vertical-align: top;\n",
       "    }\n",
       "\n",
       "    .dataframe thead th {\n",
       "        text-align: right;\n",
       "    }\n",
       "</style>\n",
       "<table border=\"1\" class=\"dataframe\">\n",
       "  <thead>\n",
       "    <tr style=\"text-align: right;\">\n",
       "      <th></th>\n",
       "      <th>request_datetime</th>\n",
       "      <th>on_scene_datetime</th>\n",
       "      <th>PULocationID</th>\n",
       "      <th>DOLocationID</th>\n",
       "      <th>trip_time</th>\n",
       "      <th>wait_time</th>\n",
       "    </tr>\n",
       "  </thead>\n",
       "  <tbody>\n",
       "    <tr>\n",
       "      <th>0</th>\n",
       "      <td>2024-01-01 00:21:47</td>\n",
       "      <td>2024-01-01 00:25:06</td>\n",
       "      <td>161</td>\n",
       "      <td>158</td>\n",
       "      <td>2251</td>\n",
       "      <td>199.0</td>\n",
       "    </tr>\n",
       "    <tr>\n",
       "      <th>1</th>\n",
       "      <td>2024-01-01 00:10:56</td>\n",
       "      <td>2024-01-01 00:11:08</td>\n",
       "      <td>137</td>\n",
       "      <td>79</td>\n",
       "      <td>432</td>\n",
       "      <td>12.0</td>\n",
       "    </tr>\n",
       "    <tr>\n",
       "      <th>2</th>\n",
       "      <td>2024-01-01 00:20:04</td>\n",
       "      <td>2024-01-01 00:21:51</td>\n",
       "      <td>79</td>\n",
       "      <td>186</td>\n",
       "      <td>731</td>\n",
       "      <td>107.0</td>\n",
       "    </tr>\n",
       "    <tr>\n",
       "      <th>3</th>\n",
       "      <td>2024-01-01 00:35:46</td>\n",
       "      <td>2024-01-01 00:39:59</td>\n",
       "      <td>234</td>\n",
       "      <td>148</td>\n",
       "      <td>930</td>\n",
       "      <td>253.0</td>\n",
       "    </tr>\n",
       "    <tr>\n",
       "      <th>4</th>\n",
       "      <td>2024-01-01 00:48:19</td>\n",
       "      <td>2024-01-01 00:56:23</td>\n",
       "      <td>148</td>\n",
       "      <td>97</td>\n",
       "      <td>761</td>\n",
       "      <td>484.0</td>\n",
       "    </tr>\n",
       "  </tbody>\n",
       "</table>\n",
       "</div>"
      ],
      "text/plain": [
       "     request_datetime   on_scene_datetime  PULocationID  DOLocationID  \\\n",
       "0 2024-01-01 00:21:47 2024-01-01 00:25:06           161           158   \n",
       "1 2024-01-01 00:10:56 2024-01-01 00:11:08           137            79   \n",
       "2 2024-01-01 00:20:04 2024-01-01 00:21:51            79           186   \n",
       "3 2024-01-01 00:35:46 2024-01-01 00:39:59           234           148   \n",
       "4 2024-01-01 00:48:19 2024-01-01 00:56:23           148            97   \n",
       "\n",
       "   trip_time  wait_time  \n",
       "0       2251      199.0  \n",
       "1        432       12.0  \n",
       "2        731      107.0  \n",
       "3        930      253.0  \n",
       "4        761      484.0  "
      ]
     },
     "execution_count": 3,
     "metadata": {},
     "output_type": "execute_result"
    }
   ],
   "source": [
    "# Jan 2024\n",
    "trip_jan = process_parquet('data/fhvhv_tripdata_2024-01.parquet')\n",
    "trip_jan.head()"
   ]
  },
  {
   "cell_type": "code",
   "execution_count": 4,
   "metadata": {},
   "outputs": [
    {
     "data": {
      "text/html": [
       "<div>\n",
       "<style scoped>\n",
       "    .dataframe tbody tr th:only-of-type {\n",
       "        vertical-align: middle;\n",
       "    }\n",
       "\n",
       "    .dataframe tbody tr th {\n",
       "        vertical-align: top;\n",
       "    }\n",
       "\n",
       "    .dataframe thead th {\n",
       "        text-align: right;\n",
       "    }\n",
       "</style>\n",
       "<table border=\"1\" class=\"dataframe\">\n",
       "  <thead>\n",
       "    <tr style=\"text-align: right;\">\n",
       "      <th></th>\n",
       "      <th>request_datetime</th>\n",
       "      <th>on_scene_datetime</th>\n",
       "      <th>PULocationID</th>\n",
       "      <th>DOLocationID</th>\n",
       "      <th>trip_time</th>\n",
       "      <th>wait_time</th>\n",
       "    </tr>\n",
       "  </thead>\n",
       "  <tbody>\n",
       "    <tr>\n",
       "      <th>0</th>\n",
       "      <td>2024-02-01 00:13:55</td>\n",
       "      <td>2024-02-01 00:19:59</td>\n",
       "      <td>149</td>\n",
       "      <td>210</td>\n",
       "      <td>420</td>\n",
       "      <td>364.0</td>\n",
       "    </tr>\n",
       "    <tr>\n",
       "      <th>1</th>\n",
       "      <td>2024-02-01 00:00:14</td>\n",
       "      <td>2024-02-01 00:03:28</td>\n",
       "      <td>127</td>\n",
       "      <td>136</td>\n",
       "      <td>300</td>\n",
       "      <td>194.0</td>\n",
       "    </tr>\n",
       "    <tr>\n",
       "      <th>2</th>\n",
       "      <td>2024-02-01 00:13:57</td>\n",
       "      <td>2024-02-01 00:15:44</td>\n",
       "      <td>127</td>\n",
       "      <td>69</td>\n",
       "      <td>848</td>\n",
       "      <td>107.0</td>\n",
       "    </tr>\n",
       "    <tr>\n",
       "      <th>3</th>\n",
       "      <td>2024-02-01 00:40:21</td>\n",
       "      <td>NaT</td>\n",
       "      <td>169</td>\n",
       "      <td>169</td>\n",
       "      <td>541</td>\n",
       "      <td>NaN</td>\n",
       "    </tr>\n",
       "    <tr>\n",
       "      <th>4</th>\n",
       "      <td>2024-02-01 00:14:14</td>\n",
       "      <td>2024-02-01 00:15:55</td>\n",
       "      <td>142</td>\n",
       "      <td>152</td>\n",
       "      <td>658</td>\n",
       "      <td>101.0</td>\n",
       "    </tr>\n",
       "  </tbody>\n",
       "</table>\n",
       "</div>"
      ],
      "text/plain": [
       "     request_datetime   on_scene_datetime  PULocationID  DOLocationID  \\\n",
       "0 2024-02-01 00:13:55 2024-02-01 00:19:59           149           210   \n",
       "1 2024-02-01 00:00:14 2024-02-01 00:03:28           127           136   \n",
       "2 2024-02-01 00:13:57 2024-02-01 00:15:44           127            69   \n",
       "3 2024-02-01 00:40:21                 NaT           169           169   \n",
       "4 2024-02-01 00:14:14 2024-02-01 00:15:55           142           152   \n",
       "\n",
       "   trip_time  wait_time  \n",
       "0        420      364.0  \n",
       "1        300      194.0  \n",
       "2        848      107.0  \n",
       "3        541        NaN  \n",
       "4        658      101.0  "
      ]
     },
     "execution_count": 4,
     "metadata": {},
     "output_type": "execute_result"
    }
   ],
   "source": [
    "# Feb 2024\n",
    "trip_feb = process_parquet('data/fhvhv_tripdata_2024-02.parquet') \n",
    "trip_feb.head()"
   ]
  },
  {
   "cell_type": "code",
   "execution_count": 5,
   "metadata": {},
   "outputs": [
    {
     "data": {
      "text/html": [
       "<div>\n",
       "<style scoped>\n",
       "    .dataframe tbody tr th:only-of-type {\n",
       "        vertical-align: middle;\n",
       "    }\n",
       "\n",
       "    .dataframe tbody tr th {\n",
       "        vertical-align: top;\n",
       "    }\n",
       "\n",
       "    .dataframe thead th {\n",
       "        text-align: right;\n",
       "    }\n",
       "</style>\n",
       "<table border=\"1\" class=\"dataframe\">\n",
       "  <thead>\n",
       "    <tr style=\"text-align: right;\">\n",
       "      <th></th>\n",
       "      <th>request_datetime</th>\n",
       "      <th>on_scene_datetime</th>\n",
       "      <th>PULocationID</th>\n",
       "      <th>DOLocationID</th>\n",
       "      <th>trip_time</th>\n",
       "      <th>wait_time</th>\n",
       "    </tr>\n",
       "  </thead>\n",
       "  <tbody>\n",
       "    <tr>\n",
       "      <th>0</th>\n",
       "      <td>2024-03-01 00:42:28</td>\n",
       "      <td>2024-03-01 00:45:18</td>\n",
       "      <td>148</td>\n",
       "      <td>144</td>\n",
       "      <td>170</td>\n",
       "      <td>170.0</td>\n",
       "    </tr>\n",
       "    <tr>\n",
       "      <th>1</th>\n",
       "      <td>2024-03-01 00:54:31</td>\n",
       "      <td>2024-03-01 00:55:55</td>\n",
       "      <td>79</td>\n",
       "      <td>114</td>\n",
       "      <td>291</td>\n",
       "      <td>84.0</td>\n",
       "    </tr>\n",
       "    <tr>\n",
       "      <th>2</th>\n",
       "      <td>2024-03-01 00:18:51</td>\n",
       "      <td>2024-03-01 00:20:27</td>\n",
       "      <td>232</td>\n",
       "      <td>148</td>\n",
       "      <td>425</td>\n",
       "      <td>96.0</td>\n",
       "    </tr>\n",
       "    <tr>\n",
       "      <th>3</th>\n",
       "      <td>2024-03-01 00:24:09</td>\n",
       "      <td>2024-03-01 00:30:33</td>\n",
       "      <td>148</td>\n",
       "      <td>233</td>\n",
       "      <td>766</td>\n",
       "      <td>384.0</td>\n",
       "    </tr>\n",
       "    <tr>\n",
       "      <th>4</th>\n",
       "      <td>2024-03-01 00:05:27</td>\n",
       "      <td>2024-03-01 00:07:42</td>\n",
       "      <td>48</td>\n",
       "      <td>237</td>\n",
       "      <td>1688</td>\n",
       "      <td>135.0</td>\n",
       "    </tr>\n",
       "  </tbody>\n",
       "</table>\n",
       "</div>"
      ],
      "text/plain": [
       "     request_datetime   on_scene_datetime  PULocationID  DOLocationID  \\\n",
       "0 2024-03-01 00:42:28 2024-03-01 00:45:18           148           144   \n",
       "1 2024-03-01 00:54:31 2024-03-01 00:55:55            79           114   \n",
       "2 2024-03-01 00:18:51 2024-03-01 00:20:27           232           148   \n",
       "3 2024-03-01 00:24:09 2024-03-01 00:30:33           148           233   \n",
       "4 2024-03-01 00:05:27 2024-03-01 00:07:42            48           237   \n",
       "\n",
       "   trip_time  wait_time  \n",
       "0        170      170.0  \n",
       "1        291       84.0  \n",
       "2        425       96.0  \n",
       "3        766      384.0  \n",
       "4       1688      135.0  "
      ]
     },
     "execution_count": 5,
     "metadata": {},
     "output_type": "execute_result"
    }
   ],
   "source": [
    "# Mar 2024\n",
    "trip_mar = process_parquet('data/fhvhv_tripdata_2024-03.parquet') \n",
    "trip_mar.head()"
   ]
  },
  {
   "cell_type": "code",
   "execution_count": 6,
   "metadata": {},
   "outputs": [
    {
     "data": {
      "text/html": [
       "<div>\n",
       "<style scoped>\n",
       "    .dataframe tbody tr th:only-of-type {\n",
       "        vertical-align: middle;\n",
       "    }\n",
       "\n",
       "    .dataframe tbody tr th {\n",
       "        vertical-align: top;\n",
       "    }\n",
       "\n",
       "    .dataframe thead th {\n",
       "        text-align: right;\n",
       "    }\n",
       "</style>\n",
       "<table border=\"1\" class=\"dataframe\">\n",
       "  <thead>\n",
       "    <tr style=\"text-align: right;\">\n",
       "      <th></th>\n",
       "      <th>request_datetime</th>\n",
       "      <th>on_scene_datetime</th>\n",
       "      <th>PULocationID</th>\n",
       "      <th>DOLocationID</th>\n",
       "      <th>trip_time</th>\n",
       "      <th>wait_time</th>\n",
       "    </tr>\n",
       "  </thead>\n",
       "  <tbody>\n",
       "    <tr>\n",
       "      <th>0</th>\n",
       "      <td>2024-01-01 00:21:47</td>\n",
       "      <td>2024-01-01 00:25:06</td>\n",
       "      <td>161</td>\n",
       "      <td>158</td>\n",
       "      <td>2251</td>\n",
       "      <td>199.0</td>\n",
       "    </tr>\n",
       "    <tr>\n",
       "      <th>1</th>\n",
       "      <td>2024-01-01 00:10:56</td>\n",
       "      <td>2024-01-01 00:11:08</td>\n",
       "      <td>137</td>\n",
       "      <td>79</td>\n",
       "      <td>432</td>\n",
       "      <td>12.0</td>\n",
       "    </tr>\n",
       "    <tr>\n",
       "      <th>2</th>\n",
       "      <td>2024-01-01 00:20:04</td>\n",
       "      <td>2024-01-01 00:21:51</td>\n",
       "      <td>79</td>\n",
       "      <td>186</td>\n",
       "      <td>731</td>\n",
       "      <td>107.0</td>\n",
       "    </tr>\n",
       "    <tr>\n",
       "      <th>3</th>\n",
       "      <td>2024-01-01 00:35:46</td>\n",
       "      <td>2024-01-01 00:39:59</td>\n",
       "      <td>234</td>\n",
       "      <td>148</td>\n",
       "      <td>930</td>\n",
       "      <td>253.0</td>\n",
       "    </tr>\n",
       "    <tr>\n",
       "      <th>4</th>\n",
       "      <td>2024-01-01 00:48:19</td>\n",
       "      <td>2024-01-01 00:56:23</td>\n",
       "      <td>148</td>\n",
       "      <td>97</td>\n",
       "      <td>761</td>\n",
       "      <td>484.0</td>\n",
       "    </tr>\n",
       "  </tbody>\n",
       "</table>\n",
       "</div>"
      ],
      "text/plain": [
       "     request_datetime   on_scene_datetime  PULocationID  DOLocationID  \\\n",
       "0 2024-01-01 00:21:47 2024-01-01 00:25:06           161           158   \n",
       "1 2024-01-01 00:10:56 2024-01-01 00:11:08           137            79   \n",
       "2 2024-01-01 00:20:04 2024-01-01 00:21:51            79           186   \n",
       "3 2024-01-01 00:35:46 2024-01-01 00:39:59           234           148   \n",
       "4 2024-01-01 00:48:19 2024-01-01 00:56:23           148            97   \n",
       "\n",
       "   trip_time  wait_time  \n",
       "0       2251      199.0  \n",
       "1        432       12.0  \n",
       "2        731      107.0  \n",
       "3        930      253.0  \n",
       "4        761      484.0  "
      ]
     },
     "execution_count": 6,
     "metadata": {},
     "output_type": "execute_result"
    }
   ],
   "source": [
    "# Merge the three dataframes, ensure the merge is optimised\n",
    "trips = pd.concat([trip_jan, trip_feb, trip_mar], ignore_index=True)\n",
    "\n",
    "trips.head()"
   ]
  },
  {
   "cell_type": "code",
   "execution_count": 7,
   "metadata": {},
   "outputs": [
    {
     "data": {
      "text/plain": [
       "18"
      ]
     },
     "execution_count": 7,
     "metadata": {},
     "output_type": "execute_result"
    }
   ],
   "source": [
    "# For memory sakes, delete the unneeded dataframes\n",
    "del trip_jan\n",
    "del trip_feb\n",
    "del trip_mar\n",
    "gc.collect()"
   ]
  },
  {
   "cell_type": "code",
   "execution_count": 8,
   "metadata": {},
   "outputs": [
    {
     "name": "stdout",
     "output_type": "stream",
     "text": [
      "<class 'pandas.core.frame.DataFrame'>\n",
      "RangeIndex: 60303866 entries, 0 to 60303865\n",
      "Data columns (total 6 columns):\n",
      " #   Column             Dtype        \n",
      "---  ------             -----        \n",
      " 0   request_datetime   datetime64[s]\n",
      " 1   on_scene_datetime  datetime64[s]\n",
      " 2   PULocationID       int32        \n",
      " 3   DOLocationID       int32        \n",
      " 4   trip_time          int32        \n",
      " 5   wait_time          float32      \n",
      "dtypes: datetime64[s](2), float32(1), int32(3)\n",
      "memory usage: 1.8 GB\n"
     ]
    }
   ],
   "source": [
    "trips.info()"
   ]
  },
  {
   "cell_type": "markdown",
   "metadata": {},
   "source": [
    "### 2. Data Exploration\n",
    "#### 2.1. Check for nulls"
   ]
  },
  {
   "cell_type": "code",
   "execution_count": 9,
   "metadata": {},
   "outputs": [
    {
     "data": {
      "text/plain": [
       "(60303866, 6)"
      ]
     },
     "execution_count": 9,
     "metadata": {},
     "output_type": "execute_result"
    }
   ],
   "source": [
    "# Shape of dataframe\n",
    "trips.shape"
   ]
  },
  {
   "cell_type": "code",
   "execution_count": 10,
   "metadata": {},
   "outputs": [
    {
     "data": {
      "text/plain": [
       "request_datetime            0\n",
       "on_scene_datetime    15797599\n",
       "PULocationID                0\n",
       "DOLocationID                0\n",
       "trip_time                   0\n",
       "wait_time            15797599\n",
       "dtype: int64"
      ]
     },
     "execution_count": 10,
     "metadata": {},
     "output_type": "execute_result"
    }
   ],
   "source": [
    "# Check for nulls\n",
    "trips.isnull().sum()"
   ]
  },
  {
   "cell_type": "code",
   "execution_count": 11,
   "metadata": {},
   "outputs": [
    {
     "data": {
      "text/plain": [
       "(44506267, 6)"
      ]
     },
     "execution_count": 11,
     "metadata": {},
     "output_type": "execute_result"
    }
   ],
   "source": [
    "# Drop nulls there is more than enough data\n",
    "trips = trips.dropna()\n",
    "trips.shape"
   ]
  },
  {
   "cell_type": "markdown",
   "metadata": {},
   "source": [
    "#### 2.2 Check and Handle Outliers"
   ]
  },
  {
   "cell_type": "code",
   "execution_count": 12,
   "metadata": {},
   "outputs": [
    {
     "data": {
      "text/plain": [
       "count               44506267\n",
       "mean     2024-02-16 13:05:18\n",
       "min      2023-12-31 23:18:00\n",
       "25%      2024-01-25 08:20:55\n",
       "50%      2024-02-16 17:26:09\n",
       "75%      2024-03-09 19:50:00\n",
       "max      2024-04-01 00:15:00\n",
       "Name: request_datetime, dtype: object"
      ]
     },
     "execution_count": 12,
     "metadata": {},
     "output_type": "execute_result"
    }
   ],
   "source": [
    "# Check outliers for request_datetime\n",
    "trips['request_datetime'].describe()"
   ]
  },
  {
   "cell_type": "code",
   "execution_count": 13,
   "metadata": {},
   "outputs": [
    {
     "data": {
      "text/plain": [
       "count               44506267\n",
       "mean     2024-02-16 13:08:30\n",
       "min      2023-12-31 22:55:22\n",
       "25%      2024-01-25 08:24:34\n",
       "50%      2024-02-16 17:29:28\n",
       "75%      2024-03-09 19:56:37\n",
       "max      2024-03-31 23:59:59\n",
       "Name: on_scene_datetime, dtype: object"
      ]
     },
     "execution_count": 13,
     "metadata": {},
     "output_type": "execute_result"
    }
   ],
   "source": [
    "# Check outliers for on_scene_datetime\n",
    "trips['on_scene_datetime'].describe()"
   ]
  },
  {
   "cell_type": "code",
   "execution_count": 14,
   "metadata": {},
   "outputs": [
    {
     "data": {
      "text/plain": [
       "count    4.450627e+07\n",
       "mean     1.149332e+03\n",
       "std      8.066760e+02\n",
       "min      0.000000e+00\n",
       "25%      5.820000e+02\n",
       "50%      9.390000e+02\n",
       "75%      1.485000e+03\n",
       "max      5.206000e+04\n",
       "Name: trip_time, dtype: float64"
      ]
     },
     "execution_count": 14,
     "metadata": {},
     "output_type": "execute_result"
    }
   ],
   "source": [
    "# Check outliers for trip_time\n",
    "trips['trip_time'].describe()"
   ]
  },
  {
   "cell_type": "code",
   "execution_count": 15,
   "metadata": {},
   "outputs": [
    {
     "data": {
      "text/plain": [
       "7"
      ]
     },
     "execution_count": 15,
     "metadata": {},
     "output_type": "execute_result"
    }
   ],
   "source": [
    "# Checking for trip times that are 0 or negative as the describe shows the min is 0\n",
    "trips[trips['trip_time'] <= 0]['trip_time'].count()"
   ]
  },
  {
   "cell_type": "code",
   "execution_count": 16,
   "metadata": {},
   "outputs": [],
   "source": [
    "# Deleting trips with 0 trip time as they never happened\n",
    "trips = trips[trips['trip_time'] > 0]"
   ]
  },
  {
   "cell_type": "code",
   "execution_count": 17,
   "metadata": {},
   "outputs": [
    {
     "data": {
      "text/plain": [
       "count    4.450626e+07\n",
       "mean     1.914310e+02\n",
       "std      1.915658e+02\n",
       "min     -1.659800e+04\n",
       "25%      9.600000e+01\n",
       "50%      1.630000e+02\n",
       "75%      2.580000e+02\n",
       "max      3.919500e+04\n",
       "Name: wait_time, dtype: float64"
      ]
     },
     "execution_count": 17,
     "metadata": {},
     "output_type": "execute_result"
    }
   ],
   "source": [
    "# Check outliers for wait_time\n",
    "trips['wait_time'].describe()"
   ]
  },
  {
   "cell_type": "code",
   "execution_count": 18,
   "metadata": {},
   "outputs": [
    {
     "data": {
      "text/plain": [
       "<Axes: xlabel='wait_time'>"
      ]
     },
     "execution_count": 18,
     "metadata": {},
     "output_type": "execute_result"
    },
    {
     "data": {
      "image/png": "[encoded data removed]",
      "text/plain": [
       "<Figure size 640x480 with 1 Axes>"
      ]
     },
     "metadata": {},
     "output_type": "display_data"
    }
   ],
   "source": [
    "# Wait time seems to have some negative values from the min. Using boxplot to investigate more\n",
    "sns.boxplot(x=trips['wait_time'])"
   ]
  },
  {
   "cell_type": "code",
   "execution_count": 19,
   "metadata": {},
   "outputs": [
    {
     "data": {
      "text/plain": [
       "408505"
      ]
     },
     "execution_count": 19,
     "metadata": {},
     "output_type": "execute_result"
    }
   ],
   "source": [
    "# Get the count of negative wait times.\n",
    "trips[trips['wait_time'] < 0]['wait_time'].count()"
   ]
  },
  {
   "cell_type": "code",
   "execution_count": 20,
   "metadata": {},
   "outputs": [
    {
     "data": {
      "text/plain": [
       "(44097755, 6)"
      ]
     },
     "execution_count": 20,
     "metadata": {},
     "output_type": "execute_result"
    }
   ],
   "source": [
    "# Drop negative wait times\n",
    "trips = trips[trips['wait_time'] >= 0]\n",
    "\n",
    "trips.shape"
   ]
  },
  {
   "cell_type": "code",
   "execution_count": 21,
   "metadata": {},
   "outputs": [
    {
     "data": {
      "text/plain": [
       "count    4.409776e+07\n",
       "mean     1.391295e+02\n",
       "std      7.478673e+01\n",
       "min      1.000000e+00\n",
       "25%      7.600000e+01\n",
       "50%      1.400000e+02\n",
       "75%      2.110000e+02\n",
       "max      2.650000e+02\n",
       "Name: PULocationID, dtype: float64"
      ]
     },
     "execution_count": 21,
     "metadata": {},
     "output_type": "execute_result"
    }
   ],
   "source": [
    "# Check for outliers in location\n",
    "trips['PULocationID'].describe()"
   ]
  },
  {
   "cell_type": "code",
   "execution_count": 22,
   "metadata": {},
   "outputs": [
    {
     "data": {
      "text/plain": [
       "count    4.409776e+07\n",
       "mean     1.425093e+02\n",
       "std      7.777297e+01\n",
       "min      1.000000e+00\n",
       "25%      7.600000e+01\n",
       "50%      1.420000e+02\n",
       "75%      2.170000e+02\n",
       "max      2.650000e+02\n",
       "Name: DOLocationID, dtype: float64"
      ]
     },
     "execution_count": 22,
     "metadata": {},
     "output_type": "execute_result"
    }
   ],
   "source": [
    "trips['DOLocationID'].describe()"
   ]
  },
  {
   "cell_type": "markdown",
   "metadata": {},
   "source": [
    "### 3.0. Feature Selection (add external data)\n",
    "#### 3.1. Add Holidays in NYC data"
   ]
  },
  {
   "cell_type": "code",
   "execution_count": 23,
   "metadata": {},
   "outputs": [
    {
     "data": {
      "text/html": [
       "<div>\n",
       "<style scoped>\n",
       "    .dataframe tbody tr th:only-of-type {\n",
       "        vertical-align: middle;\n",
       "    }\n",
       "\n",
       "    .dataframe tbody tr th {\n",
       "        vertical-align: top;\n",
       "    }\n",
       "\n",
       "    .dataframe thead th {\n",
       "        text-align: right;\n",
       "    }\n",
       "</style>\n",
       "<table border=\"1\" class=\"dataframe\">\n",
       "  <thead>\n",
       "    <tr style=\"text-align: right;\">\n",
       "      <th></th>\n",
       "      <th>0</th>\n",
       "    </tr>\n",
       "  </thead>\n",
       "  <tbody>\n",
       "    <tr>\n",
       "      <th>2024-01-01</th>\n",
       "      <td>New Year's Day</td>\n",
       "    </tr>\n",
       "    <tr>\n",
       "      <th>2024-05-27</th>\n",
       "      <td>Memorial Day</td>\n",
       "    </tr>\n",
       "    <tr>\n",
       "      <th>2024-06-19</th>\n",
       "      <td>Juneteenth National Independence Day</td>\n",
       "    </tr>\n",
       "    <tr>\n",
       "      <th>2024-07-04</th>\n",
       "      <td>Independence Day</td>\n",
       "    </tr>\n",
       "    <tr>\n",
       "      <th>2024-09-02</th>\n",
       "      <td>Labor Day</td>\n",
       "    </tr>\n",
       "    <tr>\n",
       "      <th>2024-11-11</th>\n",
       "      <td>Veterans Day</td>\n",
       "    </tr>\n",
       "    <tr>\n",
       "      <th>2024-11-28</th>\n",
       "      <td>Thanksgiving</td>\n",
       "    </tr>\n",
       "    <tr>\n",
       "      <th>2024-12-25</th>\n",
       "      <td>Christmas Day</td>\n",
       "    </tr>\n",
       "    <tr>\n",
       "      <th>2024-01-15</th>\n",
       "      <td>Martin Luther King Jr. Day</td>\n",
       "    </tr>\n",
       "    <tr>\n",
       "      <th>2024-02-19</th>\n",
       "      <td>Washington's Birthday</td>\n",
       "    </tr>\n",
       "    <tr>\n",
       "      <th>2024-10-14</th>\n",
       "      <td>Columbus Day</td>\n",
       "    </tr>\n",
       "    <tr>\n",
       "      <th>2024-02-12</th>\n",
       "      <td>Lincoln's Birthday</td>\n",
       "    </tr>\n",
       "    <tr>\n",
       "      <th>2024-02-15</th>\n",
       "      <td>Susan B. Anthony Day</td>\n",
       "    </tr>\n",
       "    <tr>\n",
       "      <th>2024-11-05</th>\n",
       "      <td>Election Day</td>\n",
       "    </tr>\n",
       "  </tbody>\n",
       "</table>\n",
       "</div>"
      ],
      "text/plain": [
       "                                               0\n",
       "2024-01-01                        New Year's Day\n",
       "2024-05-27                          Memorial Day\n",
       "2024-06-19  Juneteenth National Independence Day\n",
       "2024-07-04                      Independence Day\n",
       "2024-09-02                             Labor Day\n",
       "2024-11-11                          Veterans Day\n",
       "2024-11-28                          Thanksgiving\n",
       "2024-12-25                         Christmas Day\n",
       "2024-01-15            Martin Luther King Jr. Day\n",
       "2024-02-19                 Washington's Birthday\n",
       "2024-10-14                          Columbus Day\n",
       "2024-02-12                    Lincoln's Birthday\n",
       "2024-02-15                  Susan B. Anthony Day\n",
       "2024-11-05                          Election Day"
      ]
     },
     "execution_count": 23,
     "metadata": {},
     "output_type": "execute_result"
    }
   ],
   "source": [
    "# Holidays\n",
    "from datetime import date\n",
    "import holidays\n",
    "\n",
    "ny_holidays = holidays.country_holidays('US', subdiv='NY', years=2024)\n",
    "\n",
    "# Load ny_holidays into dataframe, date and holiday name\n",
    "ny_holidays_df = pd.DataFrame.from_dict(ny_holidays, orient='index')\n",
    "ny_holidays_df"
   ]
  },
  {
   "cell_type": "code",
   "execution_count": 24,
   "metadata": {},
   "outputs": [
    {
     "data": {
      "text/html": [
       "<div>\n",
       "<style scoped>\n",
       "    .dataframe tbody tr th:only-of-type {\n",
       "        vertical-align: middle;\n",
       "    }\n",
       "\n",
       "    .dataframe tbody tr th {\n",
       "        vertical-align: top;\n",
       "    }\n",
       "\n",
       "    .dataframe thead th {\n",
       "        text-align: right;\n",
       "    }\n",
       "</style>\n",
       "<table border=\"1\" class=\"dataframe\">\n",
       "  <thead>\n",
       "    <tr style=\"text-align: right;\">\n",
       "      <th></th>\n",
       "      <th>date</th>\n",
       "      <th>holiday_name</th>\n",
       "    </tr>\n",
       "  </thead>\n",
       "  <tbody>\n",
       "    <tr>\n",
       "      <th>0</th>\n",
       "      <td>2024-01-01</td>\n",
       "      <td>New Year's Day</td>\n",
       "    </tr>\n",
       "    <tr>\n",
       "      <th>1</th>\n",
       "      <td>2024-05-27</td>\n",
       "      <td>Memorial Day</td>\n",
       "    </tr>\n",
       "    <tr>\n",
       "      <th>2</th>\n",
       "      <td>2024-06-19</td>\n",
       "      <td>Juneteenth National Independence Day</td>\n",
       "    </tr>\n",
       "    <tr>\n",
       "      <th>3</th>\n",
       "      <td>2024-07-04</td>\n",
       "      <td>Independence Day</td>\n",
       "    </tr>\n",
       "    <tr>\n",
       "      <th>4</th>\n",
       "      <td>2024-09-02</td>\n",
       "      <td>Labor Day</td>\n",
       "    </tr>\n",
       "    <tr>\n",
       "      <th>5</th>\n",
       "      <td>2024-11-11</td>\n",
       "      <td>Veterans Day</td>\n",
       "    </tr>\n",
       "    <tr>\n",
       "      <th>6</th>\n",
       "      <td>2024-11-28</td>\n",
       "      <td>Thanksgiving</td>\n",
       "    </tr>\n",
       "    <tr>\n",
       "      <th>7</th>\n",
       "      <td>2024-12-25</td>\n",
       "      <td>Christmas Day</td>\n",
       "    </tr>\n",
       "    <tr>\n",
       "      <th>8</th>\n",
       "      <td>2024-01-15</td>\n",
       "      <td>Martin Luther King Jr. Day</td>\n",
       "    </tr>\n",
       "    <tr>\n",
       "      <th>9</th>\n",
       "      <td>2024-02-19</td>\n",
       "      <td>Washington's Birthday</td>\n",
       "    </tr>\n",
       "    <tr>\n",
       "      <th>10</th>\n",
       "      <td>2024-10-14</td>\n",
       "      <td>Columbus Day</td>\n",
       "    </tr>\n",
       "    <tr>\n",
       "      <th>11</th>\n",
       "      <td>2024-02-12</td>\n",
       "      <td>Lincoln's Birthday</td>\n",
       "    </tr>\n",
       "    <tr>\n",
       "      <th>12</th>\n",
       "      <td>2024-02-15</td>\n",
       "      <td>Susan B. Anthony Day</td>\n",
       "    </tr>\n",
       "    <tr>\n",
       "      <th>13</th>\n",
       "      <td>2024-11-05</td>\n",
       "      <td>Election Day</td>\n",
       "    </tr>\n",
       "  </tbody>\n",
       "</table>\n",
       "</div>"
      ],
      "text/plain": [
       "          date                          holiday_name\n",
       "0   2024-01-01                        New Year's Day\n",
       "1   2024-05-27                          Memorial Day\n",
       "2   2024-06-19  Juneteenth National Independence Day\n",
       "3   2024-07-04                      Independence Day\n",
       "4   2024-09-02                             Labor Day\n",
       "5   2024-11-11                          Veterans Day\n",
       "6   2024-11-28                          Thanksgiving\n",
       "7   2024-12-25                         Christmas Day\n",
       "8   2024-01-15            Martin Luther King Jr. Day\n",
       "9   2024-02-19                 Washington's Birthday\n",
       "10  2024-10-14                          Columbus Day\n",
       "11  2024-02-12                    Lincoln's Birthday\n",
       "12  2024-02-15                  Susan B. Anthony Day\n",
       "13  2024-11-05                          Election Day"
      ]
     },
     "execution_count": 24,
     "metadata": {},
     "output_type": "execute_result"
    }
   ],
   "source": [
    "# Reset index and rename columns\n",
    "ny_holidays_df.reset_index(inplace=True)\n",
    "ny_holidays_df.columns = ['date', 'holiday_name']\n",
    "ny_holidays_df"
   ]
  },
  {
   "cell_type": "code",
   "execution_count": 25,
   "metadata": {},
   "outputs": [
    {
     "data": {
      "text/html": [
       "<div>\n",
       "<style scoped>\n",
       "    .dataframe tbody tr th:only-of-type {\n",
       "        vertical-align: middle;\n",
       "    }\n",
       "\n",
       "    .dataframe tbody tr th {\n",
       "        vertical-align: top;\n",
       "    }\n",
       "\n",
       "    .dataframe thead th {\n",
       "        text-align: right;\n",
       "    }\n",
       "</style>\n",
       "<table border=\"1\" class=\"dataframe\">\n",
       "  <thead>\n",
       "    <tr style=\"text-align: right;\">\n",
       "      <th></th>\n",
       "      <th>request_datetime</th>\n",
       "      <th>on_scene_datetime</th>\n",
       "      <th>PULocationID</th>\n",
       "      <th>DOLocationID</th>\n",
       "      <th>trip_time</th>\n",
       "      <th>wait_time</th>\n",
       "      <th>is_holiday</th>\n",
       "    </tr>\n",
       "  </thead>\n",
       "  <tbody>\n",
       "    <tr>\n",
       "      <th>0</th>\n",
       "      <td>2024-01-01 00:21:47</td>\n",
       "      <td>2024-01-01 00:25:06</td>\n",
       "      <td>161</td>\n",
       "      <td>158</td>\n",
       "      <td>2251</td>\n",
       "      <td>199.0</td>\n",
       "      <td>1</td>\n",
       "    </tr>\n",
       "    <tr>\n",
       "      <th>1</th>\n",
       "      <td>2024-01-01 00:10:56</td>\n",
       "      <td>2024-01-01 00:11:08</td>\n",
       "      <td>137</td>\n",
       "      <td>79</td>\n",
       "      <td>432</td>\n",
       "      <td>12.0</td>\n",
       "      <td>1</td>\n",
       "    </tr>\n",
       "    <tr>\n",
       "      <th>2</th>\n",
       "      <td>2024-01-01 00:20:04</td>\n",
       "      <td>2024-01-01 00:21:51</td>\n",
       "      <td>79</td>\n",
       "      <td>186</td>\n",
       "      <td>731</td>\n",
       "      <td>107.0</td>\n",
       "      <td>1</td>\n",
       "    </tr>\n",
       "    <tr>\n",
       "      <th>3</th>\n",
       "      <td>2024-01-01 00:35:46</td>\n",
       "      <td>2024-01-01 00:39:59</td>\n",
       "      <td>234</td>\n",
       "      <td>148</td>\n",
       "      <td>930</td>\n",
       "      <td>253.0</td>\n",
       "      <td>1</td>\n",
       "    </tr>\n",
       "    <tr>\n",
       "      <th>4</th>\n",
       "      <td>2024-01-01 00:48:19</td>\n",
       "      <td>2024-01-01 00:56:23</td>\n",
       "      <td>148</td>\n",
       "      <td>97</td>\n",
       "      <td>761</td>\n",
       "      <td>484.0</td>\n",
       "      <td>1</td>\n",
       "    </tr>\n",
       "  </tbody>\n",
       "</table>\n",
       "</div>"
      ],
      "text/plain": [
       "     request_datetime   on_scene_datetime  PULocationID  DOLocationID  \\\n",
       "0 2024-01-01 00:21:47 2024-01-01 00:25:06           161           158   \n",
       "1 2024-01-01 00:10:56 2024-01-01 00:11:08           137            79   \n",
       "2 2024-01-01 00:20:04 2024-01-01 00:21:51            79           186   \n",
       "3 2024-01-01 00:35:46 2024-01-01 00:39:59           234           148   \n",
       "4 2024-01-01 00:48:19 2024-01-01 00:56:23           148            97   \n",
       "\n",
       "   trip_time  wait_time  is_holiday  \n",
       "0       2251      199.0           1  \n",
       "1        432       12.0           1  \n",
       "2        731      107.0           1  \n",
       "3        930      253.0           1  \n",
       "4        761      484.0           1  "
      ]
     },
     "execution_count": 25,
     "metadata": {},
     "output_type": "execute_result"
    }
   ],
   "source": [
    "# Convert holidays to datetime and create is_holiday flag in the trips dataframe\n",
    "ny_holidays_df.index = pd.to_datetime(ny_holidays_df.index)\n",
    "ny_holidays_df['date'].values.astype('datetime64[s]')\n",
    "trips['is_holiday'] = trips['request_datetime'].dt.date.isin(ny_holidays_df['date']).astype(int)\n",
    "trips.head()"
   ]
  },
  {
   "cell_type": "code",
   "execution_count": 26,
   "metadata": {},
   "outputs": [
    {
     "name": "stdout",
     "output_type": "stream",
     "text": [
      "<class 'pandas.core.frame.DataFrame'>\n",
      "Index: 44097755 entries, 0 to 60303865\n",
      "Data columns (total 7 columns):\n",
      " #   Column             Dtype        \n",
      "---  ------             -----        \n",
      " 0   request_datetime   datetime64[s]\n",
      " 1   on_scene_datetime  datetime64[s]\n",
      " 2   PULocationID       int32        \n",
      " 3   DOLocationID       int32        \n",
      " 4   trip_time          int32        \n",
      " 5   wait_time          float32      \n",
      " 6   is_holiday         int32        \n",
      "dtypes: datetime64[s](2), float32(1), int32(4)\n",
      "memory usage: 1.8 GB\n"
     ]
    }
   ],
   "source": [
    "# Keeping track of memory usage\n",
    "trips.info()"
   ]
  },
  {
   "cell_type": "markdown",
   "metadata": {},
   "source": [
    "#### 3.2. Add Time Based Features"
   ]
  },
  {
   "cell_type": "code",
   "execution_count": 27,
   "metadata": {},
   "outputs": [
    {
     "data": {
      "text/html": [
       "<div>\n",
       "<style scoped>\n",
       "    .dataframe tbody tr th:only-of-type {\n",
       "        vertical-align: middle;\n",
       "    }\n",
       "\n",
       "    .dataframe tbody tr th {\n",
       "        vertical-align: top;\n",
       "    }\n",
       "\n",
       "    .dataframe thead th {\n",
       "        text-align: right;\n",
       "    }\n",
       "</style>\n",
       "<table border=\"1\" class=\"dataframe\">\n",
       "  <thead>\n",
       "    <tr style=\"text-align: right;\">\n",
       "      <th></th>\n",
       "      <th>request_datetime</th>\n",
       "      <th>on_scene_datetime</th>\n",
       "      <th>PULocationID</th>\n",
       "      <th>DOLocationID</th>\n",
       "      <th>trip_time</th>\n",
       "      <th>wait_time</th>\n",
       "      <th>is_holiday</th>\n",
       "      <th>hour</th>\n",
       "      <th>week_day</th>\n",
       "      <th>month</th>\n",
       "    </tr>\n",
       "  </thead>\n",
       "  <tbody>\n",
       "    <tr>\n",
       "      <th>0</th>\n",
       "      <td>2024-01-01 00:21:47</td>\n",
       "      <td>2024-01-01 00:25:06</td>\n",
       "      <td>161</td>\n",
       "      <td>158</td>\n",
       "      <td>2251</td>\n",
       "      <td>199.0</td>\n",
       "      <td>1</td>\n",
       "      <td>0</td>\n",
       "      <td>0</td>\n",
       "      <td>1</td>\n",
       "    </tr>\n",
       "    <tr>\n",
       "      <th>1</th>\n",
       "      <td>2024-01-01 00:10:56</td>\n",
       "      <td>2024-01-01 00:11:08</td>\n",
       "      <td>137</td>\n",
       "      <td>79</td>\n",
       "      <td>432</td>\n",
       "      <td>12.0</td>\n",
       "      <td>1</td>\n",
       "      <td>0</td>\n",
       "      <td>0</td>\n",
       "      <td>1</td>\n",
       "    </tr>\n",
       "    <tr>\n",
       "      <th>2</th>\n",
       "      <td>2024-01-01 00:20:04</td>\n",
       "      <td>2024-01-01 00:21:51</td>\n",
       "      <td>79</td>\n",
       "      <td>186</td>\n",
       "      <td>731</td>\n",
       "      <td>107.0</td>\n",
       "      <td>1</td>\n",
       "      <td>0</td>\n",
       "      <td>0</td>\n",
       "      <td>1</td>\n",
       "    </tr>\n",
       "    <tr>\n",
       "      <th>3</th>\n",
       "      <td>2024-01-01 00:35:46</td>\n",
       "      <td>2024-01-01 00:39:59</td>\n",
       "      <td>234</td>\n",
       "      <td>148</td>\n",
       "      <td>930</td>\n",
       "      <td>253.0</td>\n",
       "      <td>1</td>\n",
       "      <td>0</td>\n",
       "      <td>0</td>\n",
       "      <td>1</td>\n",
       "    </tr>\n",
       "    <tr>\n",
       "      <th>4</th>\n",
       "      <td>2024-01-01 00:48:19</td>\n",
       "      <td>2024-01-01 00:56:23</td>\n",
       "      <td>148</td>\n",
       "      <td>97</td>\n",
       "      <td>761</td>\n",
       "      <td>484.0</td>\n",
       "      <td>1</td>\n",
       "      <td>0</td>\n",
       "      <td>0</td>\n",
       "      <td>1</td>\n",
       "    </tr>\n",
       "  </tbody>\n",
       "</table>\n",
       "</div>"
      ],
      "text/plain": [
       "     request_datetime   on_scene_datetime  PULocationID  DOLocationID  \\\n",
       "0 2024-01-01 00:21:47 2024-01-01 00:25:06           161           158   \n",
       "1 2024-01-01 00:10:56 2024-01-01 00:11:08           137            79   \n",
       "2 2024-01-01 00:20:04 2024-01-01 00:21:51            79           186   \n",
       "3 2024-01-01 00:35:46 2024-01-01 00:39:59           234           148   \n",
       "4 2024-01-01 00:48:19 2024-01-01 00:56:23           148            97   \n",
       "\n",
       "   trip_time  wait_time  is_holiday  hour  week_day  month  \n",
       "0       2251      199.0           1     0         0      1  \n",
       "1        432       12.0           1     0         0      1  \n",
       "2        731      107.0           1     0         0      1  \n",
       "3        930      253.0           1     0         0      1  \n",
       "4        761      484.0           1     0         0      1  "
      ]
     },
     "execution_count": 27,
     "metadata": {},
     "output_type": "execute_result"
    }
   ],
   "source": [
    "# Hour of the day, day of the week, month, year\n",
    "trips['hour'] = trips['request_datetime'].dt.hour\n",
    "trips['week_day'] = trips['request_datetime'].dt.weekday\n",
    "trips['month'] = trips['request_datetime'].dt.month\n",
    "\n",
    "trips.head()"
   ]
  },
  {
   "cell_type": "code",
   "execution_count": 28,
   "metadata": {},
   "outputs": [
    {
     "data": {
      "text/html": [
       "<div>\n",
       "<style scoped>\n",
       "    .dataframe tbody tr th:only-of-type {\n",
       "        vertical-align: middle;\n",
       "    }\n",
       "\n",
       "    .dataframe tbody tr th {\n",
       "        vertical-align: top;\n",
       "    }\n",
       "\n",
       "    .dataframe thead th {\n",
       "        text-align: right;\n",
       "    }\n",
       "</style>\n",
       "<table border=\"1\" class=\"dataframe\">\n",
       "  <thead>\n",
       "    <tr style=\"text-align: right;\">\n",
       "      <th></th>\n",
       "      <th>request_datetime</th>\n",
       "      <th>on_scene_datetime</th>\n",
       "      <th>PULocationID</th>\n",
       "      <th>DOLocationID</th>\n",
       "      <th>trip_time</th>\n",
       "      <th>wait_time</th>\n",
       "      <th>is_holiday</th>\n",
       "      <th>hour</th>\n",
       "      <th>week_day</th>\n",
       "      <th>month</th>\n",
       "      <th>total_trip_time</th>\n",
       "    </tr>\n",
       "  </thead>\n",
       "  <tbody>\n",
       "    <tr>\n",
       "      <th>0</th>\n",
       "      <td>2024-01-01 00:21:47</td>\n",
       "      <td>2024-01-01 00:25:06</td>\n",
       "      <td>161</td>\n",
       "      <td>158</td>\n",
       "      <td>2251</td>\n",
       "      <td>199.0</td>\n",
       "      <td>1</td>\n",
       "      <td>0</td>\n",
       "      <td>0</td>\n",
       "      <td>1</td>\n",
       "      <td>199.0</td>\n",
       "    </tr>\n",
       "    <tr>\n",
       "      <th>1</th>\n",
       "      <td>2024-01-01 00:10:56</td>\n",
       "      <td>2024-01-01 00:11:08</td>\n",
       "      <td>137</td>\n",
       "      <td>79</td>\n",
       "      <td>432</td>\n",
       "      <td>12.0</td>\n",
       "      <td>1</td>\n",
       "      <td>0</td>\n",
       "      <td>0</td>\n",
       "      <td>1</td>\n",
       "      <td>12.0</td>\n",
       "    </tr>\n",
       "    <tr>\n",
       "      <th>2</th>\n",
       "      <td>2024-01-01 00:20:04</td>\n",
       "      <td>2024-01-01 00:21:51</td>\n",
       "      <td>79</td>\n",
       "      <td>186</td>\n",
       "      <td>731</td>\n",
       "      <td>107.0</td>\n",
       "      <td>1</td>\n",
       "      <td>0</td>\n",
       "      <td>0</td>\n",
       "      <td>1</td>\n",
       "      <td>107.0</td>\n",
       "    </tr>\n",
       "    <tr>\n",
       "      <th>3</th>\n",
       "      <td>2024-01-01 00:35:46</td>\n",
       "      <td>2024-01-01 00:39:59</td>\n",
       "      <td>234</td>\n",
       "      <td>148</td>\n",
       "      <td>930</td>\n",
       "      <td>253.0</td>\n",
       "      <td>1</td>\n",
       "      <td>0</td>\n",
       "      <td>0</td>\n",
       "      <td>1</td>\n",
       "      <td>253.0</td>\n",
       "    </tr>\n",
       "    <tr>\n",
       "      <th>4</th>\n",
       "      <td>2024-01-01 00:48:19</td>\n",
       "      <td>2024-01-01 00:56:23</td>\n",
       "      <td>148</td>\n",
       "      <td>97</td>\n",
       "      <td>761</td>\n",
       "      <td>484.0</td>\n",
       "      <td>1</td>\n",
       "      <td>0</td>\n",
       "      <td>0</td>\n",
       "      <td>1</td>\n",
       "      <td>484.0</td>\n",
       "    </tr>\n",
       "  </tbody>\n",
       "</table>\n",
       "</div>"
      ],
      "text/plain": [
       "     request_datetime   on_scene_datetime  PULocationID  DOLocationID  \\\n",
       "0 2024-01-01 00:21:47 2024-01-01 00:25:06           161           158   \n",
       "1 2024-01-01 00:10:56 2024-01-01 00:11:08           137            79   \n",
       "2 2024-01-01 00:20:04 2024-01-01 00:21:51            79           186   \n",
       "3 2024-01-01 00:35:46 2024-01-01 00:39:59           234           148   \n",
       "4 2024-01-01 00:48:19 2024-01-01 00:56:23           148            97   \n",
       "\n",
       "   trip_time  wait_time  is_holiday  hour  week_day  month  total_trip_time  \n",
       "0       2251      199.0           1     0         0      1            199.0  \n",
       "1        432       12.0           1     0         0      1             12.0  \n",
       "2        731      107.0           1     0         0      1            107.0  \n",
       "3        930      253.0           1     0         0      1            253.0  \n",
       "4        761      484.0           1     0         0      1            484.0  "
      ]
     },
     "execution_count": 28,
     "metadata": {},
     "output_type": "execute_result"
    }
   ],
   "source": [
    "# Define total trip time\n",
    "trips['total_trip_time'] = trips['wait_time'] + trips['trip_time']\n",
    "trips['total_trip_time'] = trips['wait_time'].astype('float32')\n",
    "trips.head()"
   ]
  },
  {
   "cell_type": "code",
   "execution_count": 29,
   "metadata": {},
   "outputs": [
    {
     "name": "stdout",
     "output_type": "stream",
     "text": [
      "<class 'pandas.core.frame.DataFrame'>\n",
      "Index: 44097755 entries, 0 to 60303865\n",
      "Data columns (total 11 columns):\n",
      " #   Column             Dtype        \n",
      "---  ------             -----        \n",
      " 0   request_datetime   datetime64[s]\n",
      " 1   on_scene_datetime  datetime64[s]\n",
      " 2   PULocationID       int32        \n",
      " 3   DOLocationID       int32        \n",
      " 4   trip_time          int32        \n",
      " 5   wait_time          float32      \n",
      " 6   is_holiday         int32        \n",
      " 7   hour               int32        \n",
      " 8   week_day           int32        \n",
      " 9   month              int32        \n",
      " 10  total_trip_time    float32      \n",
      "dtypes: datetime64[s](2), float32(2), int32(7)\n",
      "memory usage: 2.5 GB\n"
     ]
    }
   ],
   "source": [
    "# Keeping track of memory usage\n",
    "trips.info()"
   ]
  },
  {
   "cell_type": "markdown",
   "metadata": {},
   "source": [
    "#### 3.3. Group into Peak, off-peak and night time"
   ]
  },
  {
   "cell_type": "code",
   "execution_count": 30,
   "metadata": {},
   "outputs": [
    {
     "data": {
      "text/html": [
       "<div>\n",
       "<style scoped>\n",
       "    .dataframe tbody tr th:only-of-type {\n",
       "        vertical-align: middle;\n",
       "    }\n",
       "\n",
       "    .dataframe tbody tr th {\n",
       "        vertical-align: top;\n",
       "    }\n",
       "\n",
       "    .dataframe thead th {\n",
       "        text-align: right;\n",
       "    }\n",
       "</style>\n",
       "<table border=\"1\" class=\"dataframe\">\n",
       "  <thead>\n",
       "    <tr style=\"text-align: right;\">\n",
       "      <th></th>\n",
       "      <th>request_datetime</th>\n",
       "      <th>on_scene_datetime</th>\n",
       "      <th>PULocationID</th>\n",
       "      <th>DOLocationID</th>\n",
       "      <th>trip_time</th>\n",
       "      <th>wait_time</th>\n",
       "      <th>is_holiday</th>\n",
       "      <th>hour</th>\n",
       "      <th>week_day</th>\n",
       "      <th>month</th>\n",
       "      <th>total_trip_time</th>\n",
       "      <th>request_time_group</th>\n",
       "    </tr>\n",
       "  </thead>\n",
       "  <tbody>\n",
       "    <tr>\n",
       "      <th>0</th>\n",
       "      <td>2024-01-01 00:21:47</td>\n",
       "      <td>2024-01-01 00:25:06</td>\n",
       "      <td>161</td>\n",
       "      <td>158</td>\n",
       "      <td>2251</td>\n",
       "      <td>199.0</td>\n",
       "      <td>1</td>\n",
       "      <td>0</td>\n",
       "      <td>0</td>\n",
       "      <td>1</td>\n",
       "      <td>199.0</td>\n",
       "      <td>0</td>\n",
       "    </tr>\n",
       "    <tr>\n",
       "      <th>1</th>\n",
       "      <td>2024-01-01 00:10:56</td>\n",
       "      <td>2024-01-01 00:11:08</td>\n",
       "      <td>137</td>\n",
       "      <td>79</td>\n",
       "      <td>432</td>\n",
       "      <td>12.0</td>\n",
       "      <td>1</td>\n",
       "      <td>0</td>\n",
       "      <td>0</td>\n",
       "      <td>1</td>\n",
       "      <td>12.0</td>\n",
       "      <td>0</td>\n",
       "    </tr>\n",
       "    <tr>\n",
       "      <th>2</th>\n",
       "      <td>2024-01-01 00:20:04</td>\n",
       "      <td>2024-01-01 00:21:51</td>\n",
       "      <td>79</td>\n",
       "      <td>186</td>\n",
       "      <td>731</td>\n",
       "      <td>107.0</td>\n",
       "      <td>1</td>\n",
       "      <td>0</td>\n",
       "      <td>0</td>\n",
       "      <td>1</td>\n",
       "      <td>107.0</td>\n",
       "      <td>0</td>\n",
       "    </tr>\n",
       "    <tr>\n",
       "      <th>3</th>\n",
       "      <td>2024-01-01 00:35:46</td>\n",
       "      <td>2024-01-01 00:39:59</td>\n",
       "      <td>234</td>\n",
       "      <td>148</td>\n",
       "      <td>930</td>\n",
       "      <td>253.0</td>\n",
       "      <td>1</td>\n",
       "      <td>0</td>\n",
       "      <td>0</td>\n",
       "      <td>1</td>\n",
       "      <td>253.0</td>\n",
       "      <td>0</td>\n",
       "    </tr>\n",
       "    <tr>\n",
       "      <th>4</th>\n",
       "      <td>2024-01-01 00:48:19</td>\n",
       "      <td>2024-01-01 00:56:23</td>\n",
       "      <td>148</td>\n",
       "      <td>97</td>\n",
       "      <td>761</td>\n",
       "      <td>484.0</td>\n",
       "      <td>1</td>\n",
       "      <td>0</td>\n",
       "      <td>0</td>\n",
       "      <td>1</td>\n",
       "      <td>484.0</td>\n",
       "      <td>0</td>\n",
       "    </tr>\n",
       "  </tbody>\n",
       "</table>\n",
       "</div>"
      ],
      "text/plain": [
       "     request_datetime   on_scene_datetime  PULocationID  DOLocationID  \\\n",
       "0 2024-01-01 00:21:47 2024-01-01 00:25:06           161           158   \n",
       "1 2024-01-01 00:10:56 2024-01-01 00:11:08           137            79   \n",
       "2 2024-01-01 00:20:04 2024-01-01 00:21:51            79           186   \n",
       "3 2024-01-01 00:35:46 2024-01-01 00:39:59           234           148   \n",
       "4 2024-01-01 00:48:19 2024-01-01 00:56:23           148            97   \n",
       "\n",
       "   trip_time  wait_time  is_holiday  hour  week_day  month  total_trip_time  \\\n",
       "0       2251      199.0           1     0         0      1            199.0   \n",
       "1        432       12.0           1     0         0      1             12.0   \n",
       "2        731      107.0           1     0         0      1            107.0   \n",
       "3        930      253.0           1     0         0      1            253.0   \n",
       "4        761      484.0           1     0         0      1            484.0   \n",
       "\n",
       "   request_time_group  \n",
       "0                   0  \n",
       "1                   0  \n",
       "2                   0  \n",
       "3                   0  \n",
       "4                   0  "
      ]
     },
     "execution_count": 30,
     "metadata": {},
     "output_type": "execute_result"
    }
   ],
   "source": [
    "\"\"\" \n",
    "    Group request datetime into Peak, Off-Peak and Night\n",
    "    Night: 10pm to 6am\n",
    "    Off-Peak: Weekdays, 10am to 3pm and 7pm to 10pm. Weekends, 6am to 10pm\n",
    "    Peak: Weekdays, 6am to 10am and 3pm to 7pm\n",
    "\"\"\"\n",
    "\n",
    "# Extract hour and day of week\n",
    "hour = trips['hour']\n",
    "week_day = trips['week_day']\n",
    "\n",
    "# is holiday\n",
    "is_holiday = trips['is_holiday'].astype(bool)\n",
    "\n",
    "# Initialize the default group as Night (0)\n",
    "trips['request_time_group'] = 0\n",
    "\n",
    "# Define conditions for Peak (2) and OffPeak (1) times for weekday\n",
    "weekday_mask = week_day < 5\n",
    "\n",
    "peak_mask = (hour >= 6) & (hour < 10) | (hour >= 15) & (hour < 19)\n",
    "off_peak_mask = (hour >= 10) & (hour < 15) | (hour >= 19) & (hour < 22)\n",
    "\n",
    "# For weekend\n",
    "weekend_mask = ~weekday_mask\n",
    "\n",
    "# Apply conditions for weekdays\n",
    "# Pandas is built to work efficiently with data in a vectorized way, meaning it can operate on entire columns (or Series) of data at once without needing an explicit loop\n",
    "# .loc leverages the underlying numpy array to apply the mask to the dataframe without iterating over rows one by one\n",
    "# note that all day during holidays are Off-Peak\n",
    "\n",
    "# If day is not holiday, it will be Peak\n",
    "trips.loc[weekday_mask & peak_mask & ~is_holiday, 'request_time_group'] = 2\n",
    "# If day is holiday, it will be Off-Peak\n",
    "trips.loc[weekday_mask & peak_mask & is_holiday, 'request_time_group'] = 1\n",
    "\n",
    "trips.loc[weekday_mask & off_peak_mask, 'request_time_group'] = 1\n",
    "\n",
    "# Apply conditions for weekends\n",
    "trips.loc[weekend_mask & (hour >= 6) & (hour < 22), 'request_time_group'] = 1\n",
    "\n",
    "trips.head()"
   ]
  },
  {
   "cell_type": "code",
   "execution_count": 31,
   "metadata": {},
   "outputs": [
    {
     "name": "stdout",
     "output_type": "stream",
     "text": [
      "<class 'pandas.core.frame.DataFrame'>\n",
      "Index: 44097755 entries, 0 to 60303865\n",
      "Data columns (total 12 columns):\n",
      " #   Column              Dtype        \n",
      "---  ------              -----        \n",
      " 0   request_datetime    datetime64[s]\n",
      " 1   on_scene_datetime   datetime64[s]\n",
      " 2   PULocationID        int32        \n",
      " 3   DOLocationID        int32        \n",
      " 4   trip_time           int32        \n",
      " 5   wait_time           float32      \n",
      " 6   is_holiday          int32        \n",
      " 7   hour                int32        \n",
      " 8   week_day            int32        \n",
      " 9   month               int32        \n",
      " 10  total_trip_time     float32      \n",
      " 11  request_time_group  int64        \n",
      "dtypes: datetime64[s](2), float32(2), int32(7), int64(1)\n",
      "memory usage: 2.8 GB\n"
     ]
    }
   ],
   "source": [
    "# Keeping track of memory usage\n",
    "trips.info()"
   ]
  },
  {
   "cell_type": "code",
   "execution_count": 32,
   "metadata": {},
   "outputs": [
    {
     "data": {
      "text/html": [
       "<div>\n",
       "<style scoped>\n",
       "    .dataframe tbody tr th:only-of-type {\n",
       "        vertical-align: middle;\n",
       "    }\n",
       "\n",
       "    .dataframe tbody tr th {\n",
       "        vertical-align: top;\n",
       "    }\n",
       "\n",
       "    .dataframe thead th {\n",
       "        text-align: right;\n",
       "    }\n",
       "</style>\n",
       "<table border=\"1\" class=\"dataframe\">\n",
       "  <thead>\n",
       "    <tr style=\"text-align: right;\">\n",
       "      <th></th>\n",
       "      <th>request_datetime</th>\n",
       "      <th>PULocationID</th>\n",
       "      <th>DOLocationID</th>\n",
       "      <th>trip_time</th>\n",
       "      <th>wait_time</th>\n",
       "      <th>is_holiday</th>\n",
       "      <th>hour</th>\n",
       "      <th>week_day</th>\n",
       "      <th>month</th>\n",
       "      <th>total_trip_time</th>\n",
       "      <th>request_time_group</th>\n",
       "    </tr>\n",
       "  </thead>\n",
       "  <tbody>\n",
       "    <tr>\n",
       "      <th>0</th>\n",
       "      <td>2024-01-01 00:21:47</td>\n",
       "      <td>161</td>\n",
       "      <td>158</td>\n",
       "      <td>2251</td>\n",
       "      <td>199.0</td>\n",
       "      <td>1</td>\n",
       "      <td>0</td>\n",
       "      <td>0</td>\n",
       "      <td>1</td>\n",
       "      <td>199.0</td>\n",
       "      <td>0</td>\n",
       "    </tr>\n",
       "    <tr>\n",
       "      <th>1</th>\n",
       "      <td>2024-01-01 00:10:56</td>\n",
       "      <td>137</td>\n",
       "      <td>79</td>\n",
       "      <td>432</td>\n",
       "      <td>12.0</td>\n",
       "      <td>1</td>\n",
       "      <td>0</td>\n",
       "      <td>0</td>\n",
       "      <td>1</td>\n",
       "      <td>12.0</td>\n",
       "      <td>0</td>\n",
       "    </tr>\n",
       "    <tr>\n",
       "      <th>2</th>\n",
       "      <td>2024-01-01 00:20:04</td>\n",
       "      <td>79</td>\n",
       "      <td>186</td>\n",
       "      <td>731</td>\n",
       "      <td>107.0</td>\n",
       "      <td>1</td>\n",
       "      <td>0</td>\n",
       "      <td>0</td>\n",
       "      <td>1</td>\n",
       "      <td>107.0</td>\n",
       "      <td>0</td>\n",
       "    </tr>\n",
       "    <tr>\n",
       "      <th>3</th>\n",
       "      <td>2024-01-01 00:35:46</td>\n",
       "      <td>234</td>\n",
       "      <td>148</td>\n",
       "      <td>930</td>\n",
       "      <td>253.0</td>\n",
       "      <td>1</td>\n",
       "      <td>0</td>\n",
       "      <td>0</td>\n",
       "      <td>1</td>\n",
       "      <td>253.0</td>\n",
       "      <td>0</td>\n",
       "    </tr>\n",
       "    <tr>\n",
       "      <th>4</th>\n",
       "      <td>2024-01-01 00:48:19</td>\n",
       "      <td>148</td>\n",
       "      <td>97</td>\n",
       "      <td>761</td>\n",
       "      <td>484.0</td>\n",
       "      <td>1</td>\n",
       "      <td>0</td>\n",
       "      <td>0</td>\n",
       "      <td>1</td>\n",
       "      <td>484.0</td>\n",
       "      <td>0</td>\n",
       "    </tr>\n",
       "  </tbody>\n",
       "</table>\n",
       "</div>"
      ],
      "text/plain": [
       "     request_datetime  PULocationID  DOLocationID  trip_time  wait_time  \\\n",
       "0 2024-01-01 00:21:47           161           158       2251      199.0   \n",
       "1 2024-01-01 00:10:56           137            79        432       12.0   \n",
       "2 2024-01-01 00:20:04            79           186        731      107.0   \n",
       "3 2024-01-01 00:35:46           234           148        930      253.0   \n",
       "4 2024-01-01 00:48:19           148            97        761      484.0   \n",
       "\n",
       "   is_holiday  hour  week_day  month  total_trip_time  request_time_group  \n",
       "0           1     0         0      1            199.0                   0  \n",
       "1           1     0         0      1             12.0                   0  \n",
       "2           1     0         0      1            107.0                   0  \n",
       "3           1     0         0      1            253.0                   0  \n",
       "4           1     0         0      1            484.0                   0  "
      ]
     },
     "execution_count": 32,
     "metadata": {},
     "output_type": "execute_result"
    }
   ],
   "source": [
    "# Drop unneeded columns\n",
    "trips.drop(['on_scene_datetime'], axis=1, inplace=True)\n",
    "\n",
    "trips.head()"
   ]
  },
  {
   "cell_type": "code",
   "execution_count": 33,
   "metadata": {},
   "outputs": [
    {
     "name": "stdout",
     "output_type": "stream",
     "text": [
      "<class 'pandas.core.frame.DataFrame'>\n",
      "Index: 44097755 entries, 0 to 60303865\n",
      "Data columns (total 11 columns):\n",
      " #   Column              Dtype        \n",
      "---  ------              -----        \n",
      " 0   request_datetime    datetime64[s]\n",
      " 1   PULocationID        int32        \n",
      " 2   DOLocationID        int32        \n",
      " 3   trip_time           int32        \n",
      " 4   wait_time           float32      \n",
      " 5   is_holiday          int32        \n",
      " 6   hour                int32        \n",
      " 7   week_day            int32        \n",
      " 8   month               int32        \n",
      " 9   total_trip_time     float32      \n",
      " 10  request_time_group  int64        \n",
      "dtypes: datetime64[s](1), float32(2), int32(7), int64(1)\n",
      "memory usage: 2.5 GB\n"
     ]
    }
   ],
   "source": [
    "# Keeping track of memory usage\n",
    "trips.info()"
   ]
  },
  {
   "cell_type": "markdown",
   "metadata": {},
   "source": [
    "#### 3.4. NYC weather"
   ]
  },
  {
   "cell_type": "code",
   "execution_count": 34,
   "metadata": {},
   "outputs": [
    {
     "data": {
      "text/html": [
       "<div>\n",
       "<style scoped>\n",
       "    .dataframe tbody tr th:only-of-type {\n",
       "        vertical-align: middle;\n",
       "    }\n",
       "\n",
       "    .dataframe tbody tr th {\n",
       "        vertical-align: top;\n",
       "    }\n",
       "\n",
       "    .dataframe thead th {\n",
       "        text-align: right;\n",
       "    }\n",
       "</style>\n",
       "<table border=\"1\" class=\"dataframe\">\n",
       "  <thead>\n",
       "    <tr style=\"text-align: right;\">\n",
       "      <th></th>\n",
       "      <th>temp</th>\n",
       "      <th>dwpt</th>\n",
       "      <th>rhum</th>\n",
       "      <th>prcp</th>\n",
       "      <th>snow</th>\n",
       "      <th>wdir</th>\n",
       "      <th>wspd</th>\n",
       "      <th>wpgt</th>\n",
       "      <th>pres</th>\n",
       "      <th>tsun</th>\n",
       "      <th>coco</th>\n",
       "    </tr>\n",
       "    <tr>\n",
       "      <th>time</th>\n",
       "      <th></th>\n",
       "      <th></th>\n",
       "      <th></th>\n",
       "      <th></th>\n",
       "      <th></th>\n",
       "      <th></th>\n",
       "      <th></th>\n",
       "      <th></th>\n",
       "      <th></th>\n",
       "      <th></th>\n",
       "      <th></th>\n",
       "    </tr>\n",
       "  </thead>\n",
       "  <tbody>\n",
       "    <tr>\n",
       "      <th>2024-01-01 00:00:00</th>\n",
       "      <td>42.8</td>\n",
       "      <td>28.6</td>\n",
       "      <td>57.0</td>\n",
       "      <td>0.0</td>\n",
       "      <td>NaN</td>\n",
       "      <td>260.0</td>\n",
       "      <td>6.8</td>\n",
       "      <td>NaN</td>\n",
       "      <td>1017.0</td>\n",
       "      <td>NaN</td>\n",
       "      <td>3.0</td>\n",
       "    </tr>\n",
       "    <tr>\n",
       "      <th>2024-01-01 01:00:00</th>\n",
       "      <td>42.1</td>\n",
       "      <td>27.9</td>\n",
       "      <td>57.0</td>\n",
       "      <td>0.0</td>\n",
       "      <td>NaN</td>\n",
       "      <td>260.0</td>\n",
       "      <td>7.0</td>\n",
       "      <td>NaN</td>\n",
       "      <td>1016.4</td>\n",
       "      <td>NaN</td>\n",
       "      <td>3.0</td>\n",
       "    </tr>\n",
       "    <tr>\n",
       "      <th>2024-01-01 02:00:00</th>\n",
       "      <td>42.1</td>\n",
       "      <td>28.8</td>\n",
       "      <td>59.0</td>\n",
       "      <td>0.0</td>\n",
       "      <td>NaN</td>\n",
       "      <td>260.0</td>\n",
       "      <td>5.8</td>\n",
       "      <td>NaN</td>\n",
       "      <td>1016.4</td>\n",
       "      <td>NaN</td>\n",
       "      <td>3.0</td>\n",
       "    </tr>\n",
       "    <tr>\n",
       "      <th>2024-01-01 03:00:00</th>\n",
       "      <td>42.1</td>\n",
       "      <td>30.0</td>\n",
       "      <td>62.0</td>\n",
       "      <td>0.0</td>\n",
       "      <td>NaN</td>\n",
       "      <td>250.0</td>\n",
       "      <td>5.8</td>\n",
       "      <td>NaN</td>\n",
       "      <td>1016.4</td>\n",
       "      <td>NaN</td>\n",
       "      <td>3.0</td>\n",
       "    </tr>\n",
       "    <tr>\n",
       "      <th>2024-01-01 04:00:00</th>\n",
       "      <td>42.1</td>\n",
       "      <td>30.7</td>\n",
       "      <td>64.0</td>\n",
       "      <td>0.0</td>\n",
       "      <td>NaN</td>\n",
       "      <td>260.0</td>\n",
       "      <td>5.8</td>\n",
       "      <td>NaN</td>\n",
       "      <td>1016.5</td>\n",
       "      <td>NaN</td>\n",
       "      <td>3.0</td>\n",
       "    </tr>\n",
       "  </tbody>\n",
       "</table>\n",
       "</div>"
      ],
      "text/plain": [
       "                     temp  dwpt  rhum  prcp  snow   wdir  wspd  wpgt    pres  \\\n",
       "time                                                                           \n",
       "2024-01-01 00:00:00  42.8  28.6  57.0   0.0   NaN  260.0   6.8   NaN  1017.0   \n",
       "2024-01-01 01:00:00  42.1  27.9  57.0   0.0   NaN  260.0   7.0   NaN  1016.4   \n",
       "2024-01-01 02:00:00  42.1  28.8  59.0   0.0   NaN  260.0   5.8   NaN  1016.4   \n",
       "2024-01-01 03:00:00  42.1  30.0  62.0   0.0   NaN  250.0   5.8   NaN  1016.4   \n",
       "2024-01-01 04:00:00  42.1  30.7  64.0   0.0   NaN  260.0   5.8   NaN  1016.5   \n",
       "\n",
       "                     tsun  coco  \n",
       "time                             \n",
       "2024-01-01 00:00:00   NaN   3.0  \n",
       "2024-01-01 01:00:00   NaN   3.0  \n",
       "2024-01-01 02:00:00   NaN   3.0  \n",
       "2024-01-01 03:00:00   NaN   3.0  \n",
       "2024-01-01 04:00:00   NaN   3.0  "
      ]
     },
     "execution_count": 34,
     "metadata": {},
     "output_type": "execute_result"
    }
   ],
   "source": [
    "# Get Weather data\n",
    "from datetime import datetime \n",
    "from meteostat import Point, Hourly, units  \n",
    "# Set time period \n",
    "start = datetime(2024, 1, 1) \n",
    "end = datetime(2024, 3, 31)  \n",
    "# Create Point for NY\n",
    "location = Point(40.712775, -74.005973)  \n",
    "# Get daily data \n",
    "weather_data = Hourly(location, start, end) \n",
    "weather_data = weather_data.convert(units.imperial) \n",
    "weather_data = weather_data.fetch()\n",
    "\n",
    "weather_data.head()"
   ]
  },
  {
   "cell_type": "code",
   "execution_count": 35,
   "metadata": {},
   "outputs": [
    {
     "data": {
      "text/html": [
       "<div>\n",
       "<style scoped>\n",
       "    .dataframe tbody tr th:only-of-type {\n",
       "        vertical-align: middle;\n",
       "    }\n",
       "\n",
       "    .dataframe tbody tr th {\n",
       "        vertical-align: top;\n",
       "    }\n",
       "\n",
       "    .dataframe thead th {\n",
       "        text-align: right;\n",
       "    }\n",
       "</style>\n",
       "<table border=\"1\" class=\"dataframe\">\n",
       "  <thead>\n",
       "    <tr style=\"text-align: right;\">\n",
       "      <th></th>\n",
       "      <th>time</th>\n",
       "      <th>temp</th>\n",
       "      <th>dwpt</th>\n",
       "      <th>rhum</th>\n",
       "      <th>prcp</th>\n",
       "      <th>snow</th>\n",
       "      <th>wdir</th>\n",
       "      <th>wspd</th>\n",
       "      <th>wpgt</th>\n",
       "      <th>pres</th>\n",
       "      <th>tsun</th>\n",
       "      <th>coco</th>\n",
       "    </tr>\n",
       "  </thead>\n",
       "  <tbody>\n",
       "    <tr>\n",
       "      <th>0</th>\n",
       "      <td>2024-01-01 00:00:00</td>\n",
       "      <td>42.8</td>\n",
       "      <td>28.6</td>\n",
       "      <td>57.0</td>\n",
       "      <td>0.0</td>\n",
       "      <td>NaN</td>\n",
       "      <td>260.0</td>\n",
       "      <td>6.8</td>\n",
       "      <td>NaN</td>\n",
       "      <td>1017.0</td>\n",
       "      <td>NaN</td>\n",
       "      <td>3.0</td>\n",
       "    </tr>\n",
       "    <tr>\n",
       "      <th>1</th>\n",
       "      <td>2024-01-01 01:00:00</td>\n",
       "      <td>42.1</td>\n",
       "      <td>27.9</td>\n",
       "      <td>57.0</td>\n",
       "      <td>0.0</td>\n",
       "      <td>NaN</td>\n",
       "      <td>260.0</td>\n",
       "      <td>7.0</td>\n",
       "      <td>NaN</td>\n",
       "      <td>1016.4</td>\n",
       "      <td>NaN</td>\n",
       "      <td>3.0</td>\n",
       "    </tr>\n",
       "    <tr>\n",
       "      <th>2</th>\n",
       "      <td>2024-01-01 02:00:00</td>\n",
       "      <td>42.1</td>\n",
       "      <td>28.8</td>\n",
       "      <td>59.0</td>\n",
       "      <td>0.0</td>\n",
       "      <td>NaN</td>\n",
       "      <td>260.0</td>\n",
       "      <td>5.8</td>\n",
       "      <td>NaN</td>\n",
       "      <td>1016.4</td>\n",
       "      <td>NaN</td>\n",
       "      <td>3.0</td>\n",
       "    </tr>\n",
       "    <tr>\n",
       "      <th>3</th>\n",
       "      <td>2024-01-01 03:00:00</td>\n",
       "      <td>42.1</td>\n",
       "      <td>30.0</td>\n",
       "      <td>62.0</td>\n",
       "      <td>0.0</td>\n",
       "      <td>NaN</td>\n",
       "      <td>250.0</td>\n",
       "      <td>5.8</td>\n",
       "      <td>NaN</td>\n",
       "      <td>1016.4</td>\n",
       "      <td>NaN</td>\n",
       "      <td>3.0</td>\n",
       "    </tr>\n",
       "    <tr>\n",
       "      <th>4</th>\n",
       "      <td>2024-01-01 04:00:00</td>\n",
       "      <td>42.1</td>\n",
       "      <td>30.7</td>\n",
       "      <td>64.0</td>\n",
       "      <td>0.0</td>\n",
       "      <td>NaN</td>\n",
       "      <td>260.0</td>\n",
       "      <td>5.8</td>\n",
       "      <td>NaN</td>\n",
       "      <td>1016.5</td>\n",
       "      <td>NaN</td>\n",
       "      <td>3.0</td>\n",
       "    </tr>\n",
       "  </tbody>\n",
       "</table>\n",
       "</div>"
      ],
      "text/plain": [
       "                 time  temp  dwpt  rhum  prcp  snow   wdir  wspd  wpgt  \\\n",
       "0 2024-01-01 00:00:00  42.8  28.6  57.0   0.0   NaN  260.0   6.8   NaN   \n",
       "1 2024-01-01 01:00:00  42.1  27.9  57.0   0.0   NaN  260.0   7.0   NaN   \n",
       "2 2024-01-01 02:00:00  42.1  28.8  59.0   0.0   NaN  260.0   5.8   NaN   \n",
       "3 2024-01-01 03:00:00  42.1  30.0  62.0   0.0   NaN  250.0   5.8   NaN   \n",
       "4 2024-01-01 04:00:00  42.1  30.7  64.0   0.0   NaN  260.0   5.8   NaN   \n",
       "\n",
       "     pres  tsun  coco  \n",
       "0  1017.0   NaN   3.0  \n",
       "1  1016.4   NaN   3.0  \n",
       "2  1016.4   NaN   3.0  \n",
       "3  1016.4   NaN   3.0  \n",
       "4  1016.5   NaN   3.0  "
      ]
     },
     "execution_count": 35,
     "metadata": {},
     "output_type": "execute_result"
    }
   ],
   "source": [
    "# Reset index and convert time to datetime\n",
    "weather_data.reset_index(inplace=True)\n",
    "weather_data.rename(columns={'index': 'time'}, inplace=True)\n",
    "weather_data['time'] = pd.to_datetime(weather_data['time'])\n",
    "\n",
    "weather_data.head()"
   ]
  },
  {
   "cell_type": "code",
   "execution_count": 36,
   "metadata": {},
   "outputs": [],
   "source": [
    "# Create column to compare with weather time\n",
    "trips['rounded_request_datetime'] = trips['request_datetime'].dt.round('H')"
   ]
  },
  {
   "cell_type": "code",
   "execution_count": 37,
   "metadata": {},
   "outputs": [
    {
     "data": {
      "text/html": [
       "<div>\n",
       "<style scoped>\n",
       "    .dataframe tbody tr th:only-of-type {\n",
       "        vertical-align: middle;\n",
       "    }\n",
       "\n",
       "    .dataframe tbody tr th {\n",
       "        vertical-align: top;\n",
       "    }\n",
       "\n",
       "    .dataframe thead th {\n",
       "        text-align: right;\n",
       "    }\n",
       "</style>\n",
       "<table border=\"1\" class=\"dataframe\">\n",
       "  <thead>\n",
       "    <tr style=\"text-align: right;\">\n",
       "      <th></th>\n",
       "      <th>request_datetime</th>\n",
       "      <th>PULocationID</th>\n",
       "      <th>DOLocationID</th>\n",
       "      <th>trip_time</th>\n",
       "      <th>wait_time</th>\n",
       "      <th>is_holiday</th>\n",
       "      <th>hour</th>\n",
       "      <th>week_day</th>\n",
       "      <th>month</th>\n",
       "      <th>total_trip_time</th>\n",
       "      <th>...</th>\n",
       "      <th>dwpt</th>\n",
       "      <th>rhum</th>\n",
       "      <th>prcp</th>\n",
       "      <th>snow</th>\n",
       "      <th>wdir</th>\n",
       "      <th>wspd</th>\n",
       "      <th>wpgt</th>\n",
       "      <th>pres</th>\n",
       "      <th>tsun</th>\n",
       "      <th>coco</th>\n",
       "    </tr>\n",
       "  </thead>\n",
       "  <tbody>\n",
       "    <tr>\n",
       "      <th>0</th>\n",
       "      <td>2024-01-01 00:21:47</td>\n",
       "      <td>161</td>\n",
       "      <td>158</td>\n",
       "      <td>2251</td>\n",
       "      <td>199.0</td>\n",
       "      <td>1</td>\n",
       "      <td>0</td>\n",
       "      <td>0</td>\n",
       "      <td>1</td>\n",
       "      <td>199.0</td>\n",
       "      <td>...</td>\n",
       "      <td>28.6</td>\n",
       "      <td>57.0</td>\n",
       "      <td>0.0</td>\n",
       "      <td>NaN</td>\n",
       "      <td>260.0</td>\n",
       "      <td>6.8</td>\n",
       "      <td>NaN</td>\n",
       "      <td>1017.0</td>\n",
       "      <td>NaN</td>\n",
       "      <td>3.0</td>\n",
       "    </tr>\n",
       "    <tr>\n",
       "      <th>1</th>\n",
       "      <td>2024-01-01 00:10:56</td>\n",
       "      <td>137</td>\n",
       "      <td>79</td>\n",
       "      <td>432</td>\n",
       "      <td>12.0</td>\n",
       "      <td>1</td>\n",
       "      <td>0</td>\n",
       "      <td>0</td>\n",
       "      <td>1</td>\n",
       "      <td>12.0</td>\n",
       "      <td>...</td>\n",
       "      <td>28.6</td>\n",
       "      <td>57.0</td>\n",
       "      <td>0.0</td>\n",
       "      <td>NaN</td>\n",
       "      <td>260.0</td>\n",
       "      <td>6.8</td>\n",
       "      <td>NaN</td>\n",
       "      <td>1017.0</td>\n",
       "      <td>NaN</td>\n",
       "      <td>3.0</td>\n",
       "    </tr>\n",
       "    <tr>\n",
       "      <th>2</th>\n",
       "      <td>2024-01-01 00:20:04</td>\n",
       "      <td>79</td>\n",
       "      <td>186</td>\n",
       "      <td>731</td>\n",
       "      <td>107.0</td>\n",
       "      <td>1</td>\n",
       "      <td>0</td>\n",
       "      <td>0</td>\n",
       "      <td>1</td>\n",
       "      <td>107.0</td>\n",
       "      <td>...</td>\n",
       "      <td>28.6</td>\n",
       "      <td>57.0</td>\n",
       "      <td>0.0</td>\n",
       "      <td>NaN</td>\n",
       "      <td>260.0</td>\n",
       "      <td>6.8</td>\n",
       "      <td>NaN</td>\n",
       "      <td>1017.0</td>\n",
       "      <td>NaN</td>\n",
       "      <td>3.0</td>\n",
       "    </tr>\n",
       "    <tr>\n",
       "      <th>3</th>\n",
       "      <td>2024-01-01 00:35:46</td>\n",
       "      <td>234</td>\n",
       "      <td>148</td>\n",
       "      <td>930</td>\n",
       "      <td>253.0</td>\n",
       "      <td>1</td>\n",
       "      <td>0</td>\n",
       "      <td>0</td>\n",
       "      <td>1</td>\n",
       "      <td>253.0</td>\n",
       "      <td>...</td>\n",
       "      <td>27.9</td>\n",
       "      <td>57.0</td>\n",
       "      <td>0.0</td>\n",
       "      <td>NaN</td>\n",
       "      <td>260.0</td>\n",
       "      <td>7.0</td>\n",
       "      <td>NaN</td>\n",
       "      <td>1016.4</td>\n",
       "      <td>NaN</td>\n",
       "      <td>3.0</td>\n",
       "    </tr>\n",
       "    <tr>\n",
       "      <th>4</th>\n",
       "      <td>2024-01-01 00:48:19</td>\n",
       "      <td>148</td>\n",
       "      <td>97</td>\n",
       "      <td>761</td>\n",
       "      <td>484.0</td>\n",
       "      <td>1</td>\n",
       "      <td>0</td>\n",
       "      <td>0</td>\n",
       "      <td>1</td>\n",
       "      <td>484.0</td>\n",
       "      <td>...</td>\n",
       "      <td>27.9</td>\n",
       "      <td>57.0</td>\n",
       "      <td>0.0</td>\n",
       "      <td>NaN</td>\n",
       "      <td>260.0</td>\n",
       "      <td>7.0</td>\n",
       "      <td>NaN</td>\n",
       "      <td>1016.4</td>\n",
       "      <td>NaN</td>\n",
       "      <td>3.0</td>\n",
       "    </tr>\n",
       "  </tbody>\n",
       "</table>\n",
       "<p>5 rows × 24 columns</p>\n",
       "</div>"
      ],
      "text/plain": [
       "     request_datetime  PULocationID  DOLocationID  trip_time  wait_time  \\\n",
       "0 2024-01-01 00:21:47           161           158       2251      199.0   \n",
       "1 2024-01-01 00:10:56           137            79        432       12.0   \n",
       "2 2024-01-01 00:20:04            79           186        731      107.0   \n",
       "3 2024-01-01 00:35:46           234           148        930      253.0   \n",
       "4 2024-01-01 00:48:19           148            97        761      484.0   \n",
       "\n",
       "   is_holiday  hour  week_day  month  total_trip_time  ...  dwpt  rhum prcp  \\\n",
       "0           1     0         0      1            199.0  ...  28.6  57.0  0.0   \n",
       "1           1     0         0      1             12.0  ...  28.6  57.0  0.0   \n",
       "2           1     0         0      1            107.0  ...  28.6  57.0  0.0   \n",
       "3           1     0         0      1            253.0  ...  27.9  57.0  0.0   \n",
       "4           1     0         0      1            484.0  ...  27.9  57.0  0.0   \n",
       "\n",
       "   snow   wdir  wspd  wpgt    pres  tsun  coco  \n",
       "0   NaN  260.0   6.8   NaN  1017.0   NaN   3.0  \n",
       "1   NaN  260.0   6.8   NaN  1017.0   NaN   3.0  \n",
       "2   NaN  260.0   6.8   NaN  1017.0   NaN   3.0  \n",
       "3   NaN  260.0   7.0   NaN  1016.4   NaN   3.0  \n",
       "4   NaN  260.0   7.0   NaN  1016.4   NaN   3.0  \n",
       "\n",
       "[5 rows x 24 columns]"
      ]
     },
     "execution_count": 37,
     "metadata": {},
     "output_type": "execute_result"
    }
   ],
   "source": [
    "# Merge trips and weather dataframe on trips[rounded_request_datetime] and weather[time]\n",
    "trips = trips.merge(weather_data, left_on='rounded_request_datetime', right_on='time', how='left')\n",
    "trips.head()"
   ]
  },
  {
   "cell_type": "code",
   "execution_count": 38,
   "metadata": {},
   "outputs": [],
   "source": [
    "# Remove unneeded columns\n",
    "trips.drop(['request_datetime', 'rounded_request_datetime', 'trip_time', 'time', 'dwpt', 'rhum', 'wait_time', 'prcp','snow', 'wdir', 'wspd', 'wpgt', 'pres', 'tsun', 'temp'], axis=1, inplace=True)"
   ]
  },
  {
   "cell_type": "code",
   "execution_count": 39,
   "metadata": {},
   "outputs": [],
   "source": [
    "# Change data types\n",
    "trips['request_time_group'] = trips['request_time_group'].astype('int32')\n",
    "trips['coco'] = trips['coco'].astype('float32')\n",
    "\n",
    "# Rename coco to weather_condition_code  \n",
    "trips.rename(columns={'coco': 'weather_condition_code'}, inplace=True)"
   ]
  },
  {
   "cell_type": "code",
   "execution_count": 40,
   "metadata": {},
   "outputs": [
    {
     "name": "stdout",
     "output_type": "stream",
     "text": [
      "<class 'pandas.core.frame.DataFrame'>\n",
      "RangeIndex: 44097755 entries, 0 to 44097754\n",
      "Data columns (total 9 columns):\n",
      " #   Column                  Dtype  \n",
      "---  ------                  -----  \n",
      " 0   PULocationID            int32  \n",
      " 1   DOLocationID            int32  \n",
      " 2   is_holiday              int32  \n",
      " 3   hour                    int32  \n",
      " 4   week_day                int32  \n",
      " 5   month                   int32  \n",
      " 6   total_trip_time         float32\n",
      " 7   request_time_group      int32  \n",
      " 8   weather_condition_code  float32\n",
      "dtypes: float32(2), int32(7)\n",
      "memory usage: 1.5 GB\n"
     ]
    }
   ],
   "source": [
    "# Keeping track of memory usage\n",
    "trips.info()"
   ]
  },
  {
   "cell_type": "code",
   "execution_count": 41,
   "metadata": {},
   "outputs": [
    {
     "data": {
      "text/plain": [
       "45"
      ]
     },
     "execution_count": 41,
     "metadata": {},
     "output_type": "execute_result"
    }
   ],
   "source": [
    "# Deleting the unneeded dataframes\n",
    "del weather_data\n",
    "del ny_holidays_df\n",
    "del ny_holidays\n",
    "gc.collect()"
   ]
  },
  {
   "cell_type": "code",
   "execution_count": 42,
   "metadata": {},
   "outputs": [
    {
     "data": {
      "text/plain": [
       "PULocationID                   0\n",
       "DOLocationID                   0\n",
       "is_holiday                     0\n",
       "hour                           0\n",
       "week_day                       0\n",
       "month                          0\n",
       "total_trip_time                0\n",
       "request_time_group             0\n",
       "weather_condition_code    465278\n",
       "dtype: int64"
      ]
     },
     "execution_count": 42,
     "metadata": {},
     "output_type": "execute_result"
    }
   ],
   "source": [
    "# Check for null values\n",
    "trips.isnull().sum()"
   ]
  },
  {
   "cell_type": "code",
   "execution_count": 43,
   "metadata": {},
   "outputs": [],
   "source": [
    "# Drop null values\n",
    "trips.dropna(inplace=True)"
   ]
  },
  {
   "cell_type": "code",
   "execution_count": 44,
   "metadata": {},
   "outputs": [
    {
     "data": {
      "text/plain": [
       "PULocationID              0\n",
       "DOLocationID              0\n",
       "is_holiday                0\n",
       "hour                      0\n",
       "week_day                  0\n",
       "month                     0\n",
       "total_trip_time           0\n",
       "request_time_group        0\n",
       "weather_condition_code    0\n",
       "dtype: int64"
      ]
     },
     "execution_count": 44,
     "metadata": {},
     "output_type": "execute_result"
    }
   ],
   "source": [
    "# Check for null values\n",
    "trips.isnull().sum()"
   ]
  },
  {
   "cell_type": "code",
   "execution_count": 45,
   "metadata": {},
   "outputs": [
    {
     "data": {
      "text/plain": [
       "(43632477, 9)"
      ]
     },
     "execution_count": 45,
     "metadata": {},
     "output_type": "execute_result"
    }
   ],
   "source": [
    "# Check dataset shape\n",
    "trips.shape"
   ]
  },
  {
   "cell_type": "markdown",
   "metadata": {},
   "source": [
    "### 4.0. Correlation Analysis"
   ]
  },
  {
   "cell_type": "code",
   "execution_count": 46,
   "metadata": {},
   "outputs": [
    {
     "data": {
      "image/png": "[encoded data removed]",
      "text/plain": [
       "<Figure size 1000x1000 with 2 Axes>"
      ]
     },
     "metadata": {},
     "output_type": "display_data"
    }
   ],
   "source": [
    "#correlation heatmap, to check correlation between different variables\n",
    "#results range from -1 to 1 where 1 is perfect correlation and -1 is perfect negative correlation\n",
    "correlation_matrix = trips.corr()\n",
    "plt.figure(figsize=(10, 10))\n",
    "sns.heatmap(correlation_matrix, annot=True, cmap=\"coolwarm\")\n",
    "plt.title('Correlation Matrix')\n",
    "plt.show()"
   ]
  },
  {
   "cell_type": "code",
   "execution_count": 47,
   "metadata": {},
   "outputs": [
    {
     "data": {
      "text/html": [
       "<div>\n",
       "<style scoped>\n",
       "    .dataframe tbody tr th:only-of-type {\n",
       "        vertical-align: middle;\n",
       "    }\n",
       "\n",
       "    .dataframe tbody tr th {\n",
       "        vertical-align: top;\n",
       "    }\n",
       "\n",
       "    .dataframe thead th {\n",
       "        text-align: right;\n",
       "    }\n",
       "</style>\n",
       "<table border=\"1\" class=\"dataframe\">\n",
       "  <thead>\n",
       "    <tr style=\"text-align: right;\">\n",
       "      <th></th>\n",
       "      <th>PULocationID</th>\n",
       "      <th>DOLocationID</th>\n",
       "      <th>is_holiday</th>\n",
       "      <th>hour</th>\n",
       "      <th>week_day</th>\n",
       "      <th>month</th>\n",
       "      <th>total_trip_time</th>\n",
       "      <th>request_time_group</th>\n",
       "      <th>weather_condition_code</th>\n",
       "    </tr>\n",
       "  </thead>\n",
       "  <tbody>\n",
       "    <tr>\n",
       "      <th>0</th>\n",
       "      <td>161</td>\n",
       "      <td>158</td>\n",
       "      <td>1</td>\n",
       "      <td>0</td>\n",
       "      <td>0</td>\n",
       "      <td>1</td>\n",
       "      <td>199.0</td>\n",
       "      <td>0</td>\n",
       "      <td>3.0</td>\n",
       "    </tr>\n",
       "    <tr>\n",
       "      <th>1</th>\n",
       "      <td>137</td>\n",
       "      <td>79</td>\n",
       "      <td>1</td>\n",
       "      <td>0</td>\n",
       "      <td>0</td>\n",
       "      <td>1</td>\n",
       "      <td>12.0</td>\n",
       "      <td>0</td>\n",
       "      <td>3.0</td>\n",
       "    </tr>\n",
       "    <tr>\n",
       "      <th>2</th>\n",
       "      <td>79</td>\n",
       "      <td>186</td>\n",
       "      <td>1</td>\n",
       "      <td>0</td>\n",
       "      <td>0</td>\n",
       "      <td>1</td>\n",
       "      <td>107.0</td>\n",
       "      <td>0</td>\n",
       "      <td>3.0</td>\n",
       "    </tr>\n",
       "    <tr>\n",
       "      <th>3</th>\n",
       "      <td>234</td>\n",
       "      <td>148</td>\n",
       "      <td>1</td>\n",
       "      <td>0</td>\n",
       "      <td>0</td>\n",
       "      <td>1</td>\n",
       "      <td>253.0</td>\n",
       "      <td>0</td>\n",
       "      <td>3.0</td>\n",
       "    </tr>\n",
       "    <tr>\n",
       "      <th>4</th>\n",
       "      <td>148</td>\n",
       "      <td>97</td>\n",
       "      <td>1</td>\n",
       "      <td>0</td>\n",
       "      <td>0</td>\n",
       "      <td>1</td>\n",
       "      <td>484.0</td>\n",
       "      <td>0</td>\n",
       "      <td>3.0</td>\n",
       "    </tr>\n",
       "  </tbody>\n",
       "</table>\n",
       "</div>"
      ],
      "text/plain": [
       "   PULocationID  DOLocationID  is_holiday  hour  week_day  month  \\\n",
       "0           161           158           1     0         0      1   \n",
       "1           137            79           1     0         0      1   \n",
       "2            79           186           1     0         0      1   \n",
       "3           234           148           1     0         0      1   \n",
       "4           148            97           1     0         0      1   \n",
       "\n",
       "   total_trip_time  request_time_group  weather_condition_code  \n",
       "0            199.0                   0                     3.0  \n",
       "1             12.0                   0                     3.0  \n",
       "2            107.0                   0                     3.0  \n",
       "3            253.0                   0                     3.0  \n",
       "4            484.0                   0                     3.0  "
      ]
     },
     "execution_count": 47,
     "metadata": {},
     "output_type": "execute_result"
    }
   ],
   "source": [
    "trips.head()"
   ]
  },
  {
   "cell_type": "code",
   "execution_count": 48,
   "metadata": {},
   "outputs": [
    {
     "name": "stdout",
     "output_type": "stream",
     "text": [
      "<class 'pandas.core.frame.DataFrame'>\n",
      "Index: 43632477 entries, 0 to 43661929\n",
      "Data columns (total 9 columns):\n",
      " #   Column                  Dtype\n",
      "---  ------                  -----\n",
      " 0   PULocationID            int32\n",
      " 1   DOLocationID            int32\n",
      " 2   is_holiday              int32\n",
      " 3   hour                    int32\n",
      " 4   week_day                int32\n",
      " 5   month                   int32\n",
      " 6   total_trip_time         int32\n",
      " 7   request_time_group      int32\n",
      " 8   weather_condition_code  int32\n",
      "dtypes: int32(9)\n",
      "memory usage: 1.8 GB\n"
     ]
    }
   ],
   "source": [
    "#rounding up columns ans converting to int32\n",
    "trips['total_trip_time'] = np.ceil(trips['total_trip_time']).astype('int32')\n",
    "trips['weather_condition_code'] = np.ceil(trips['weather_condition_code']).astype('int32')\n",
    "\n",
    "trips.info()"
   ]
  },
  {
   "cell_type": "markdown",
   "metadata": {},
   "source": [
    "### 5.0 Machine Learning Models\n",
    "#### 5.1 Linear Regression"
   ]
  },
  {
   "cell_type": "code",
   "execution_count": 49,
   "metadata": {},
   "outputs": [
    {
     "name": "stdout",
     "output_type": "stream",
     "text": [
      "Mean Absolute Error: 109.94570548815182\n",
      "Mean Squared Error: 24652.717071493695\n",
      "R-squared: 0.010479733332054875\n"
     ]
    }
   ],
   "source": [
    "\"\"\" \n",
    "From the correlation Matrix, there is a low correlation/weak linear relationship between total_trip_time and the other variables. This suggest the use of complex models to capture the non-linear relationship.\n",
    "\n",
    "Starting with a simple linear regression model, even though the correlation is low, the model is able to give a baseline comparison.\n",
    "\"\"\"\n",
    "\n",
    "# Define features and target\n",
    "X = trips.drop('total_trip_time', axis=1)\n",
    "y = trips['total_trip_time']\n",
    "\n",
    "\n",
    "# Split the data into training and testing sets\n",
    "X_train, X_test, y_train, y_test = train_test_split(X, y, test_size=0.2, random_state=42)\n",
    "\n",
    "# Fit the model\n",
    "lr_model = LinearRegression()\n",
    "lr_model.fit(X_train, y_train)\n",
    "\n",
    "# Make predictions\n",
    "y_pred = lr_model.predict(X_test)\n",
    "\n",
    "# Evaluate the model\n",
    "print(\"Mean Absolute Error:\", mean_absolute_error(y_test, y_pred))\n",
    "print(\"Mean Squared Error:\", mean_squared_error(y_test, y_pred))\n",
    "print(\"R-squared:\", r2_score(y_test, y_pred))\n"
   ]
  },
  {
   "cell_type": "code",
   "execution_count": 50,
   "metadata": {},
   "outputs": [],
   "source": [
    "#save model to pickle\n",
    "import pickle\n",
    "\n",
    "pickle.dump(lr_model, open('lr_model.pkl', 'wb'))\n"
   ]
  },
  {
   "cell_type": "markdown",
   "metadata": {},
   "source": [
    "#### 5.2. Random Forest"
   ]
  },
  {
   "cell_type": "code",
   "execution_count": 51,
   "metadata": {},
   "outputs": [
    {
     "name": "stdout",
     "output_type": "stream",
     "text": [
      "Mean Absolute Error: 109.27799369123908\n",
      "Mean Squared Error: 24366.378251061375\n",
      "R-squared: 0.021972911350927382\n"
     ]
    }
   ],
   "source": [
    "# RF can capture complex non-linear relationships\n",
    "# Random Forest Regression\n",
    "rf_model = RandomForestRegressor(max_depth=2, random_state=0)\n",
    "rf_model.fit(X_train, y_train)\n",
    "\n",
    "# Make predictions\n",
    "y_pred = rf_model.predict(X_test)\n",
    "\n",
    "# Evaluate the model\n",
    "print(\"Mean Absolute Error:\", mean_absolute_error(y_test, y_pred))\n",
    "print(\"Mean Squared Error:\", mean_squared_error(y_test, y_pred))\n",
    "print(\"R-squared:\", r2_score(y_test, y_pred))"
   ]
  },
  {
   "cell_type": "markdown",
   "metadata": {},
   "source": [
    "#### 5.3. LightGBM"
   ]
  },
  {
   "cell_type": "code",
   "execution_count": 52,
   "metadata": {},
   "outputs": [
    {
     "name": "stdout",
     "output_type": "stream",
     "text": [
      "[LightGBM] [Info] Auto-choosing row-wise multi-threading, the overhead of testing was 0.522827 seconds.\n",
      "You can set `force_row_wise=true` to remove the overhead.\n",
      "And if memory is not enough, you can set `force_col_wise=true`.\n",
      "[LightGBM] [Info] Total Bins 483\n",
      "[LightGBM] [Info] Number of data points in the train set: 34905981, number of used features: 8\n",
      "[LightGBM] [Info] Start training from score 200.769396\n",
      "Mean Absolute Error: 102.25610552647763\n",
      "Mean Squared Error: 21603.89202691343\n",
      "R-squared: 0.132854648940259\n"
     ]
    }
   ],
   "source": [
    "# LGBM can capture complex non-linear relationships\n",
    "# LightGBM Regression\n",
    "lgbm_model = LGBMRegressor(random_state=0)\n",
    "lgbm_model.fit(X_train, y_train)\n",
    "\n",
    "# Make predictions\n",
    "y_pred = lgbm_model.predict(X_test)\n",
    "\n",
    "# Evaluate the model\n",
    "print(\"Mean Absolute Error:\", mean_absolute_error(y_test, y_pred))\n",
    "print(\"Mean Squared Error:\", mean_squared_error(y_test, y_pred))\n",
    "print(\"R-squared:\", r2_score(y_test, y_pred))\n"
   ]
  },
  {
   "cell_type": "markdown",
   "metadata": {},
   "source": [
    "#### 5.4. SVM"
   ]
  },
  {
   "cell_type": "code",
   "execution_count": 53,
   "metadata": {},
   "outputs": [],
   "source": [
    "# SVM can capture complex non-linear relationships\n",
    "# Support Vector Regression\n",
    "\n",
    "#standardize the data\n",
    "sc = StandardScaler()\n",
    "X_train1 = sc.fit_transform(X_train)\n",
    "X_test1 = sc.transform(X_test)\n",
    "\n",
    "#create the model\n",
    "svm = svm.SVC(kernel = 'rbf')\n",
    "svm.fit(X_train1, y_train)\n",
    "\n",
    "#predict on the train set and test set\n",
    "y_train_pred = svm.predict(X_train1)\n",
    "y_test_pred = svm.predict(X_test1)\n",
    "\n",
    "#evaluate the model\n",
    "print(\"Mean Absolute Error:\", mean_absolute_error(y_test, y_pred))\n",
    "print(\"Mean Squared Error:\", mean_squared_error(y_test, y_pred))\n",
    "print(\"R-squared:\", r2_score(y_test, y_pred))"
   ]
  }
 ],
 "metadata": {
  "kernelspec": {
   "display_name": "Python 3",
   "language": "python",
   "name": "python3"
  },
  "language_info": {
   "codemirror_mode": {
    "name": "ipython",
    "version": 3
   },
   "file_extension": ".py",
   "mimetype": "text/x-python",
   "name": "python",
   "nbconvert_exporter": "python",
   "pygments_lexer": "ipython3",
   "version": "3.11.1"
  }
 },
 "nbformat": 4,
 "nbformat_minor": 2
}
